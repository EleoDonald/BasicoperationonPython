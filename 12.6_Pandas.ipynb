{
 "cells": [
  {
   "cell_type": "markdown",
   "metadata": {
    "id": "zUqy3u0mOqRA"
   },
   "source": [
    "# Pandas. Домашнее задание\n",
    "\n",
    "В домашнем задании есть обязательные и дополнительные задачи.\n",
    "\n",
    "*Обязательные задачи* нужно сделать, чтобы проверить, что вы действительно усвоили материал модуля. Они обязательны к загрузке на проверку преподавателю.\n",
    "\n",
    "*Дополнительные задачи* для тех, кто чувствует, что нужно ещё немного потренироваться и порешать задачки по работе с Pandas. Вы также можете загрузить их на проверку преподавателю и получить по ним обратную связь.\n",
    "\n",
    "Удачи!"
   ]
  },
  {
   "cell_type": "markdown",
   "metadata": {
    "id": "5b2c9q-uRFgE"
   },
   "source": [
    "\n",
    "\n",
    "---\n",
    "\n",
    "\n",
    "\n",
    "---\n",
    "\n"
   ]
  },
  {
   "cell_type": "markdown",
   "metadata": {
    "id": "9YruChoFPlTH"
   },
   "source": [
    "**Цели домашнего задания:**\n",
    "1. Научиться работать с описательными статистиками набора данных.\n",
    "2. Научиться выбирать данные по условиям.\n",
    "3. Научиться объединять несколько датафреймов в один.\n"
   ]
  },
  {
   "cell_type": "markdown",
   "metadata": {
    "id": "s0ln3tQ_QZK4"
   },
   "source": [
    "**Что входит в домашнее задание:**\n",
    "1. *Обязательные задачи*:\n",
    "\n",
    "17 задач с использованием:\n",
    "- набора рекламных данных, показывающих, щелкнул ли конкретный пользователь интернета рекламу на веб-сайте компании или нет,\n",
    "- дополнительного набора данных, описывающего пользователей, посещающих веб-сайт компании.\n",
    "2. *Дополнительные задачи*:\n",
    "\n",
    "3 задачи для отработки исследования данных.\n"
   ]
  },
  {
   "cell_type": "markdown",
   "metadata": {
    "id": "QLCrcUsFLTVr"
   },
   "source": [
    "**Критерии оценки:**\n",
    "- программа выдаёт верный ответ на заданном наборе данных;\n",
    "- код читабелен: переменным даны осмысленные названия, отступы и правила расстановки пробелов соблюдены."
   ]
  },
  {
   "cell_type": "markdown",
   "metadata": {
    "id": "UKH0UuMA7pyF"
   },
   "source": [
    "**Как отправить задание на проверку**\n",
    "\n",
    "Выполните задачи, сохраните изменения при помощи опции Save and Checkpoint из вкладки меню File или кнопки Save and Checkpoint на панели инструментов. Отправьте через форму на платформе итоговый файл Jupyter Notebook (в формате .ipynb) или ссылку на него."
   ]
  },
  {
   "cell_type": "markdown",
   "metadata": {
    "id": "hYa6ZRVRRHbE"
   },
   "source": [
    "\n",
    "\n",
    "---\n",
    "\n",
    "\n",
    "---\n",
    "\n"
   ]
  },
  {
   "cell_type": "markdown",
   "metadata": {
    "id": "UgcrtNvYQ_01"
   },
   "source": [
    "**Обязательные задачи**"
   ]
  },
  {
   "cell_type": "markdown",
   "metadata": {
    "id": "p0t9GY6BOjpL"
   },
   "source": [
    "В течение всего домашнего задания вы будете работать с несколькими наборами данных:\n",
    "1. Набор рекламных данных, показывающих, щёлкнул ли конкретный пользователь рекламу на сайте компании или нет. Состоит из трёх разных файлов: `advertising_1.csv`, `advertising_2.csv`, `advertising_3.csv`.\n",
    "\n",
    "Описание столбцов датасета:\n",
    "- **Number**: Номер пользователя в системе.\n",
    "- **Daily Time Spent on Site**: Среднее ежедневное время нахождения пользователя на сайте в минутах.\n",
    "- **Daily Internet Usage**: Среднее ежедневное время нахождения пользователя в интернете в минутах.\n",
    "- **Ad Topic Line**: Заголовок рекламного объявления.\n",
    "- **Clicked on Ad**: Кликнул пользователь на рекламу или нет.\n",
    "\n",
    "Дополнительный к рекламным данным датасет, который описывает пользователей, посещающих сайт компании. Состоит из одного файла: users.csv.\n",
    "\n",
    "Описание столбцов датасета:\n",
    "- **Number**: Номер пользователя в системе.\n",
    "- **Age**: Возраст пользователя.\n",
    "- **Male**: Является ли пользователь мужчиной.\n",
    "- **City**: Город пользователя.\n",
    "- **Country**: Страна пользователя.\n",
    "- **Area Income**: Средний доход в месте жительства пользователя.\n"
   ]
  },
  {
   "cell_type": "markdown",
   "metadata": {
    "id": "kr8Q_RUzOjpM"
   },
   "source": [
    "***Задача 1***\n",
    "\n",
    "Загрузите таблицу из файла `advertising_1.csv` и сохраните её в датафрейм `adv1_df`. Укажите в качестве индекса столбец `Number`. Выведите на экран первые десять строк.\n"
   ]
  },
  {
   "cell_type": "code",
   "execution_count": 1,
   "metadata": {
    "ExecuteTime": {
     "end_time": "2021-10-24T10:55:47.101496Z",
     "start_time": "2021-10-24T10:55:47.098939Z"
    },
    "id": "hLC8F1acOjpN",
    "scrolled": true
   },
   "outputs": [
    {
     "name": "stdout",
     "output_type": "stream",
     "text": [
      "Requirement already satisfied: pandas in c:\\users\\user\\anaconda3\\lib\\site-packages (1.5.3)\n",
      "Requirement already satisfied: pytz>=2020.1 in c:\\users\\user\\anaconda3\\lib\\site-packages (from pandas) (2022.7)\n",
      "Requirement already satisfied: numpy>=1.21.0 in c:\\users\\user\\anaconda3\\lib\\site-packages (from pandas) (1.23.5)\n",
      "Requirement already satisfied: python-dateutil>=2.8.1 in c:\\users\\user\\anaconda3\\lib\\site-packages (from pandas) (2.8.2)\n",
      "Requirement already satisfied: six>=1.5 in c:\\users\\user\\anaconda3\\lib\\site-packages (from python-dateutil>=2.8.1->pandas) (1.16.0)\n"
     ]
    }
   ],
   "source": [
    "!pip install pandas"
   ]
  },
  {
   "cell_type": "code",
   "execution_count": 2,
   "metadata": {},
   "outputs": [],
   "source": [
    "import pandas as pd"
   ]
  },
  {
   "cell_type": "code",
   "execution_count": 3,
   "metadata": {},
   "outputs": [
    {
     "name": "stdout",
     "output_type": "stream",
     "text": [
      "Help on function read_csv in module pandas.io.parsers.readers:\n",
      "\n",
      "read_csv(filepath_or_buffer: 'FilePath | ReadCsvBuffer[bytes] | ReadCsvBuffer[str]', *, sep: 'str | None | lib.NoDefault' = <no_default>, delimiter: 'str | None | lib.NoDefault' = None, header: \"int | Sequence[int] | None | Literal['infer']\" = 'infer', names: 'Sequence[Hashable] | None | lib.NoDefault' = <no_default>, index_col: 'IndexLabel | Literal[False] | None' = None, usecols=None, squeeze: 'bool | None' = None, prefix: 'str | lib.NoDefault' = <no_default>, mangle_dupe_cols: 'bool' = True, dtype: 'DtypeArg | None' = None, engine: 'CSVEngine | None' = None, converters=None, true_values=None, false_values=None, skipinitialspace: 'bool' = False, skiprows=None, skipfooter: 'int' = 0, nrows: 'int | None' = None, na_values=None, keep_default_na: 'bool' = True, na_filter: 'bool' = True, verbose: 'bool' = False, skip_blank_lines: 'bool' = True, parse_dates=None, infer_datetime_format: 'bool' = False, keep_date_col: 'bool' = False, date_parser=None, dayfirst: 'bool' = False, cache_dates: 'bool' = True, iterator: 'bool' = False, chunksize: 'int | None' = None, compression: 'CompressionOptions' = 'infer', thousands: 'str | None' = None, decimal: 'str' = '.', lineterminator: 'str | None' = None, quotechar: 'str' = '\"', quoting: 'int' = 0, doublequote: 'bool' = True, escapechar: 'str | None' = None, comment: 'str | None' = None, encoding: 'str | None' = None, encoding_errors: 'str | None' = 'strict', dialect: 'str | csv.Dialect | None' = None, error_bad_lines: 'bool | None' = None, warn_bad_lines: 'bool | None' = None, on_bad_lines=None, delim_whitespace: 'bool' = False, low_memory=True, memory_map: 'bool' = False, float_precision: \"Literal['high', 'legacy'] | None\" = None, storage_options: 'StorageOptions' = None) -> 'DataFrame | TextFileReader'\n",
      "    Read a comma-separated values (csv) file into DataFrame.\n",
      "    \n",
      "    Also supports optionally iterating or breaking of the file\n",
      "    into chunks.\n",
      "    \n",
      "    Additional help can be found in the online docs for\n",
      "    `IO Tools <https://pandas.pydata.org/pandas-docs/stable/user_guide/io.html>`_.\n",
      "    \n",
      "    Parameters\n",
      "    ----------\n",
      "    filepath_or_buffer : str, path object or file-like object\n",
      "        Any valid string path is acceptable. The string could be a URL. Valid\n",
      "        URL schemes include http, ftp, s3, gs, and file. For file URLs, a host is\n",
      "        expected. A local file could be: file://localhost/path/to/table.csv.\n",
      "    \n",
      "        If you want to pass in a path object, pandas accepts any ``os.PathLike``.\n",
      "    \n",
      "        By file-like object, we refer to objects with a ``read()`` method, such as\n",
      "        a file handle (e.g. via builtin ``open`` function) or ``StringIO``.\n",
      "    sep : str, default ','\n",
      "        Delimiter to use. If sep is None, the C engine cannot automatically detect\n",
      "        the separator, but the Python parsing engine can, meaning the latter will\n",
      "        be used and automatically detect the separator by Python's builtin sniffer\n",
      "        tool, ``csv.Sniffer``. In addition, separators longer than 1 character and\n",
      "        different from ``'\\s+'`` will be interpreted as regular expressions and\n",
      "        will also force the use of the Python parsing engine. Note that regex\n",
      "        delimiters are prone to ignoring quoted data. Regex example: ``'\\r\\t'``.\n",
      "    delimiter : str, default ``None``\n",
      "        Alias for sep.\n",
      "    header : int, list of int, None, default 'infer'\n",
      "        Row number(s) to use as the column names, and the start of the\n",
      "        data.  Default behavior is to infer the column names: if no names\n",
      "        are passed the behavior is identical to ``header=0`` and column\n",
      "        names are inferred from the first line of the file, if column\n",
      "        names are passed explicitly then the behavior is identical to\n",
      "        ``header=None``. Explicitly pass ``header=0`` to be able to\n",
      "        replace existing names. The header can be a list of integers that\n",
      "        specify row locations for a multi-index on the columns\n",
      "        e.g. [0,1,3]. Intervening rows that are not specified will be\n",
      "        skipped (e.g. 2 in this example is skipped). Note that this\n",
      "        parameter ignores commented lines and empty lines if\n",
      "        ``skip_blank_lines=True``, so ``header=0`` denotes the first line of\n",
      "        data rather than the first line of the file.\n",
      "    names : array-like, optional\n",
      "        List of column names to use. If the file contains a header row,\n",
      "        then you should explicitly pass ``header=0`` to override the column names.\n",
      "        Duplicates in this list are not allowed.\n",
      "    index_col : int, str, sequence of int / str, or False, optional, default ``None``\n",
      "      Column(s) to use as the row labels of the ``DataFrame``, either given as\n",
      "      string name or column index. If a sequence of int / str is given, a\n",
      "      MultiIndex is used.\n",
      "    \n",
      "      Note: ``index_col=False`` can be used to force pandas to *not* use the first\n",
      "      column as the index, e.g. when you have a malformed file with delimiters at\n",
      "      the end of each line.\n",
      "    usecols : list-like or callable, optional\n",
      "        Return a subset of the columns. If list-like, all elements must either\n",
      "        be positional (i.e. integer indices into the document columns) or strings\n",
      "        that correspond to column names provided either by the user in `names` or\n",
      "        inferred from the document header row(s). If ``names`` are given, the document\n",
      "        header row(s) are not taken into account. For example, a valid list-like\n",
      "        `usecols` parameter would be ``[0, 1, 2]`` or ``['foo', 'bar', 'baz']``.\n",
      "        Element order is ignored, so ``usecols=[0, 1]`` is the same as ``[1, 0]``.\n",
      "        To instantiate a DataFrame from ``data`` with element order preserved use\n",
      "        ``pd.read_csv(data, usecols=['foo', 'bar'])[['foo', 'bar']]`` for columns\n",
      "        in ``['foo', 'bar']`` order or\n",
      "        ``pd.read_csv(data, usecols=['foo', 'bar'])[['bar', 'foo']]``\n",
      "        for ``['bar', 'foo']`` order.\n",
      "    \n",
      "        If callable, the callable function will be evaluated against the column\n",
      "        names, returning names where the callable function evaluates to True. An\n",
      "        example of a valid callable argument would be ``lambda x: x.upper() in\n",
      "        ['AAA', 'BBB', 'DDD']``. Using this parameter results in much faster\n",
      "        parsing time and lower memory usage.\n",
      "    squeeze : bool, default False\n",
      "        If the parsed data only contains one column then return a Series.\n",
      "    \n",
      "        .. deprecated:: 1.4.0\n",
      "            Append ``.squeeze(\"columns\")`` to the call to ``read_csv`` to squeeze\n",
      "            the data.\n",
      "    prefix : str, optional\n",
      "        Prefix to add to column numbers when no header, e.g. 'X' for X0, X1, ...\n",
      "    \n",
      "        .. deprecated:: 1.4.0\n",
      "           Use a list comprehension on the DataFrame's columns after calling ``read_csv``.\n",
      "    mangle_dupe_cols : bool, default True\n",
      "        Duplicate columns will be specified as 'X', 'X.1', ...'X.N', rather than\n",
      "        'X'...'X'. Passing in False will cause data to be overwritten if there\n",
      "        are duplicate names in the columns.\n",
      "    \n",
      "        .. deprecated:: 1.5.0\n",
      "            Not implemented, and a new argument to specify the pattern for the\n",
      "            names of duplicated columns will be added instead\n",
      "    dtype : Type name or dict of column -> type, optional\n",
      "        Data type for data or columns. E.g. {'a': np.float64, 'b': np.int32,\n",
      "        'c': 'Int64'}\n",
      "        Use `str` or `object` together with suitable `na_values` settings\n",
      "        to preserve and not interpret dtype.\n",
      "        If converters are specified, they will be applied INSTEAD\n",
      "        of dtype conversion.\n",
      "    \n",
      "        .. versionadded:: 1.5.0\n",
      "    \n",
      "            Support for defaultdict was added. Specify a defaultdict as input where\n",
      "            the default determines the dtype of the columns which are not explicitly\n",
      "            listed.\n",
      "    engine : {'c', 'python', 'pyarrow'}, optional\n",
      "        Parser engine to use. The C and pyarrow engines are faster, while the python engine\n",
      "        is currently more feature-complete. Multithreading is currently only supported by\n",
      "        the pyarrow engine.\n",
      "    \n",
      "        .. versionadded:: 1.4.0\n",
      "    \n",
      "            The \"pyarrow\" engine was added as an *experimental* engine, and some features\n",
      "            are unsupported, or may not work correctly, with this engine.\n",
      "    converters : dict, optional\n",
      "        Dict of functions for converting values in certain columns. Keys can either\n",
      "        be integers or column labels.\n",
      "    true_values : list, optional\n",
      "        Values to consider as True.\n",
      "    false_values : list, optional\n",
      "        Values to consider as False.\n",
      "    skipinitialspace : bool, default False\n",
      "        Skip spaces after delimiter.\n",
      "    skiprows : list-like, int or callable, optional\n",
      "        Line numbers to skip (0-indexed) or number of lines to skip (int)\n",
      "        at the start of the file.\n",
      "    \n",
      "        If callable, the callable function will be evaluated against the row\n",
      "        indices, returning True if the row should be skipped and False otherwise.\n",
      "        An example of a valid callable argument would be ``lambda x: x in [0, 2]``.\n",
      "    skipfooter : int, default 0\n",
      "        Number of lines at bottom of file to skip (Unsupported with engine='c').\n",
      "    nrows : int, optional\n",
      "        Number of rows of file to read. Useful for reading pieces of large files.\n",
      "    na_values : scalar, str, list-like, or dict, optional\n",
      "        Additional strings to recognize as NA/NaN. If dict passed, specific\n",
      "        per-column NA values.  By default the following values are interpreted as\n",
      "        NaN: '', '#N/A', '#N/A N/A', '#NA', '-1.#IND', '-1.#QNAN', '-NaN', '-nan',\n",
      "        '1.#IND', '1.#QNAN', '<NA>', 'N/A', 'NA', 'NULL', 'NaN', 'n/a',\n",
      "        'nan', 'null'.\n",
      "    keep_default_na : bool, default True\n",
      "        Whether or not to include the default NaN values when parsing the data.\n",
      "        Depending on whether `na_values` is passed in, the behavior is as follows:\n",
      "    \n",
      "        * If `keep_default_na` is True, and `na_values` are specified, `na_values`\n",
      "          is appended to the default NaN values used for parsing.\n",
      "        * If `keep_default_na` is True, and `na_values` are not specified, only\n",
      "          the default NaN values are used for parsing.\n",
      "        * If `keep_default_na` is False, and `na_values` are specified, only\n",
      "          the NaN values specified `na_values` are used for parsing.\n",
      "        * If `keep_default_na` is False, and `na_values` are not specified, no\n",
      "          strings will be parsed as NaN.\n",
      "    \n",
      "        Note that if `na_filter` is passed in as False, the `keep_default_na` and\n",
      "        `na_values` parameters will be ignored.\n",
      "    na_filter : bool, default True\n",
      "        Detect missing value markers (empty strings and the value of na_values). In\n",
      "        data without any NAs, passing na_filter=False can improve the performance\n",
      "        of reading a large file.\n",
      "    verbose : bool, default False\n",
      "        Indicate number of NA values placed in non-numeric columns.\n",
      "    skip_blank_lines : bool, default True\n",
      "        If True, skip over blank lines rather than interpreting as NaN values.\n",
      "    parse_dates : bool or list of int or names or list of lists or dict, default False\n",
      "        The behavior is as follows:\n",
      "    \n",
      "        * boolean. If True -> try parsing the index.\n",
      "        * list of int or names. e.g. If [1, 2, 3] -> try parsing columns 1, 2, 3\n",
      "          each as a separate date column.\n",
      "        * list of lists. e.g.  If [[1, 3]] -> combine columns 1 and 3 and parse as\n",
      "          a single date column.\n",
      "        * dict, e.g. {'foo' : [1, 3]} -> parse columns 1, 3 as date and call\n",
      "          result 'foo'\n",
      "    \n",
      "        If a column or index cannot be represented as an array of datetimes,\n",
      "        say because of an unparsable value or a mixture of timezones, the column\n",
      "        or index will be returned unaltered as an object data type. For\n",
      "        non-standard datetime parsing, use ``pd.to_datetime`` after\n",
      "        ``pd.read_csv``. To parse an index or column with a mixture of timezones,\n",
      "        specify ``date_parser`` to be a partially-applied\n",
      "        :func:`pandas.to_datetime` with ``utc=True``. See\n",
      "        :ref:`io.csv.mixed_timezones` for more.\n",
      "    \n",
      "        Note: A fast-path exists for iso8601-formatted dates.\n",
      "    infer_datetime_format : bool, default False\n",
      "        If True and `parse_dates` is enabled, pandas will attempt to infer the\n",
      "        format of the datetime strings in the columns, and if it can be inferred,\n",
      "        switch to a faster method of parsing them. In some cases this can increase\n",
      "        the parsing speed by 5-10x.\n",
      "    keep_date_col : bool, default False\n",
      "        If True and `parse_dates` specifies combining multiple columns then\n",
      "        keep the original columns.\n",
      "    date_parser : function, optional\n",
      "        Function to use for converting a sequence of string columns to an array of\n",
      "        datetime instances. The default uses ``dateutil.parser.parser`` to do the\n",
      "        conversion. Pandas will try to call `date_parser` in three different ways,\n",
      "        advancing to the next if an exception occurs: 1) Pass one or more arrays\n",
      "        (as defined by `parse_dates`) as arguments; 2) concatenate (row-wise) the\n",
      "        string values from the columns defined by `parse_dates` into a single array\n",
      "        and pass that; and 3) call `date_parser` once for each row using one or\n",
      "        more strings (corresponding to the columns defined by `parse_dates`) as\n",
      "        arguments.\n",
      "    dayfirst : bool, default False\n",
      "        DD/MM format dates, international and European format.\n",
      "    cache_dates : bool, default True\n",
      "        If True, use a cache of unique, converted dates to apply the datetime\n",
      "        conversion. May produce significant speed-up when parsing duplicate\n",
      "        date strings, especially ones with timezone offsets.\n",
      "    \n",
      "        .. versionadded:: 0.25.0\n",
      "    iterator : bool, default False\n",
      "        Return TextFileReader object for iteration or getting chunks with\n",
      "        ``get_chunk()``.\n",
      "    \n",
      "        .. versionchanged:: 1.2\n",
      "    \n",
      "           ``TextFileReader`` is a context manager.\n",
      "    chunksize : int, optional\n",
      "        Return TextFileReader object for iteration.\n",
      "        See the `IO Tools docs\n",
      "        <https://pandas.pydata.org/pandas-docs/stable/io.html#io-chunking>`_\n",
      "        for more information on ``iterator`` and ``chunksize``.\n",
      "    \n",
      "        .. versionchanged:: 1.2\n",
      "    \n",
      "           ``TextFileReader`` is a context manager.\n",
      "    compression : str or dict, default 'infer'\n",
      "        For on-the-fly decompression of on-disk data. If 'infer' and 'filepath_or_buffer' is\n",
      "        path-like, then detect compression from the following extensions: '.gz',\n",
      "        '.bz2', '.zip', '.xz', '.zst', '.tar', '.tar.gz', '.tar.xz' or '.tar.bz2'\n",
      "        (otherwise no compression).\n",
      "        If using 'zip' or 'tar', the ZIP file must contain only one data file to be read in.\n",
      "        Set to ``None`` for no decompression.\n",
      "        Can also be a dict with key ``'method'`` set\n",
      "        to one of {``'zip'``, ``'gzip'``, ``'bz2'``, ``'zstd'``, ``'tar'``} and other\n",
      "        key-value pairs are forwarded to\n",
      "        ``zipfile.ZipFile``, ``gzip.GzipFile``,\n",
      "        ``bz2.BZ2File``, ``zstandard.ZstdDecompressor`` or\n",
      "        ``tarfile.TarFile``, respectively.\n",
      "        As an example, the following could be passed for Zstandard decompression using a\n",
      "        custom compression dictionary:\n",
      "        ``compression={'method': 'zstd', 'dict_data': my_compression_dict}``.\n",
      "    \n",
      "            .. versionadded:: 1.5.0\n",
      "                Added support for `.tar` files.\n",
      "    \n",
      "        .. versionchanged:: 1.4.0 Zstandard support.\n",
      "    \n",
      "    thousands : str, optional\n",
      "        Thousands separator.\n",
      "    decimal : str, default '.'\n",
      "        Character to recognize as decimal point (e.g. use ',' for European data).\n",
      "    lineterminator : str (length 1), optional\n",
      "        Character to break file into lines. Only valid with C parser.\n",
      "    quotechar : str (length 1), optional\n",
      "        The character used to denote the start and end of a quoted item. Quoted\n",
      "        items can include the delimiter and it will be ignored.\n",
      "    quoting : int or csv.QUOTE_* instance, default 0\n",
      "        Control field quoting behavior per ``csv.QUOTE_*`` constants. Use one of\n",
      "        QUOTE_MINIMAL (0), QUOTE_ALL (1), QUOTE_NONNUMERIC (2) or QUOTE_NONE (3).\n",
      "    doublequote : bool, default ``True``\n",
      "       When quotechar is specified and quoting is not ``QUOTE_NONE``, indicate\n",
      "       whether or not to interpret two consecutive quotechar elements INSIDE a\n",
      "       field as a single ``quotechar`` element.\n",
      "    escapechar : str (length 1), optional\n",
      "        One-character string used to escape other characters.\n",
      "    comment : str, optional\n",
      "        Indicates remainder of line should not be parsed. If found at the beginning\n",
      "        of a line, the line will be ignored altogether. This parameter must be a\n",
      "        single character. Like empty lines (as long as ``skip_blank_lines=True``),\n",
      "        fully commented lines are ignored by the parameter `header` but not by\n",
      "        `skiprows`. For example, if ``comment='#'``, parsing\n",
      "        ``#empty\\na,b,c\\n1,2,3`` with ``header=0`` will result in 'a,b,c' being\n",
      "        treated as the header.\n",
      "    encoding : str, optional\n",
      "        Encoding to use for UTF when reading/writing (ex. 'utf-8'). `List of Python\n",
      "        standard encodings\n",
      "        <https://docs.python.org/3/library/codecs.html#standard-encodings>`_ .\n",
      "    \n",
      "        .. versionchanged:: 1.2\n",
      "    \n",
      "           When ``encoding`` is ``None``, ``errors=\"replace\"`` is passed to\n",
      "           ``open()``. Otherwise, ``errors=\"strict\"`` is passed to ``open()``.\n",
      "           This behavior was previously only the case for ``engine=\"python\"``.\n",
      "    \n",
      "        .. versionchanged:: 1.3.0\n",
      "    \n",
      "           ``encoding_errors`` is a new argument. ``encoding`` has no longer an\n",
      "           influence on how encoding errors are handled.\n",
      "    \n",
      "    encoding_errors : str, optional, default \"strict\"\n",
      "        How encoding errors are treated. `List of possible values\n",
      "        <https://docs.python.org/3/library/codecs.html#error-handlers>`_ .\n",
      "    \n",
      "        .. versionadded:: 1.3.0\n",
      "    \n",
      "    dialect : str or csv.Dialect, optional\n",
      "        If provided, this parameter will override values (default or not) for the\n",
      "        following parameters: `delimiter`, `doublequote`, `escapechar`,\n",
      "        `skipinitialspace`, `quotechar`, and `quoting`. If it is necessary to\n",
      "        override values, a ParserWarning will be issued. See csv.Dialect\n",
      "        documentation for more details.\n",
      "    error_bad_lines : bool, optional, default ``None``\n",
      "        Lines with too many fields (e.g. a csv line with too many commas) will by\n",
      "        default cause an exception to be raised, and no DataFrame will be returned.\n",
      "        If False, then these \"bad lines\" will be dropped from the DataFrame that is\n",
      "        returned.\n",
      "    \n",
      "        .. deprecated:: 1.3.0\n",
      "           The ``on_bad_lines`` parameter should be used instead to specify behavior upon\n",
      "           encountering a bad line instead.\n",
      "    warn_bad_lines : bool, optional, default ``None``\n",
      "        If error_bad_lines is False, and warn_bad_lines is True, a warning for each\n",
      "        \"bad line\" will be output.\n",
      "    \n",
      "        .. deprecated:: 1.3.0\n",
      "           The ``on_bad_lines`` parameter should be used instead to specify behavior upon\n",
      "           encountering a bad line instead.\n",
      "    on_bad_lines : {'error', 'warn', 'skip'} or callable, default 'error'\n",
      "        Specifies what to do upon encountering a bad line (a line with too many fields).\n",
      "        Allowed values are :\n",
      "    \n",
      "            - 'error', raise an Exception when a bad line is encountered.\n",
      "            - 'warn', raise a warning when a bad line is encountered and skip that line.\n",
      "            - 'skip', skip bad lines without raising or warning when they are encountered.\n",
      "    \n",
      "        .. versionadded:: 1.3.0\n",
      "    \n",
      "        .. versionadded:: 1.4.0\n",
      "    \n",
      "            - callable, function with signature\n",
      "              ``(bad_line: list[str]) -> list[str] | None`` that will process a single\n",
      "              bad line. ``bad_line`` is a list of strings split by the ``sep``.\n",
      "              If the function returns ``None``, the bad line will be ignored.\n",
      "              If the function returns a new list of strings with more elements than\n",
      "              expected, a ``ParserWarning`` will be emitted while dropping extra elements.\n",
      "              Only supported when ``engine=\"python\"``\n",
      "    \n",
      "    delim_whitespace : bool, default False\n",
      "        Specifies whether or not whitespace (e.g. ``' '`` or ``'    '``) will be\n",
      "        used as the sep. Equivalent to setting ``sep='\\s+'``. If this option\n",
      "        is set to True, nothing should be passed in for the ``delimiter``\n",
      "        parameter.\n",
      "    low_memory : bool, default True\n",
      "        Internally process the file in chunks, resulting in lower memory use\n",
      "        while parsing, but possibly mixed type inference.  To ensure no mixed\n",
      "        types either set False, or specify the type with the `dtype` parameter.\n",
      "        Note that the entire file is read into a single DataFrame regardless,\n",
      "        use the `chunksize` or `iterator` parameter to return the data in chunks.\n",
      "        (Only valid with C parser).\n",
      "    memory_map : bool, default False\n",
      "        If a filepath is provided for `filepath_or_buffer`, map the file object\n",
      "        directly onto memory and access the data directly from there. Using this\n",
      "        option can improve performance because there is no longer any I/O overhead.\n",
      "    float_precision : str, optional\n",
      "        Specifies which converter the C engine should use for floating-point\n",
      "        values. The options are ``None`` or 'high' for the ordinary converter,\n",
      "        'legacy' for the original lower precision pandas converter, and\n",
      "        'round_trip' for the round-trip converter.\n",
      "    \n",
      "        .. versionchanged:: 1.2\n",
      "    \n",
      "    storage_options : dict, optional\n",
      "        Extra options that make sense for a particular storage connection, e.g.\n",
      "        host, port, username, password, etc. For HTTP(S) URLs the key-value pairs\n",
      "        are forwarded to ``urllib.request.Request`` as header options. For other\n",
      "        URLs (e.g. starting with \"s3://\", and \"gcs://\") the key-value pairs are\n",
      "        forwarded to ``fsspec.open``. Please see ``fsspec`` and ``urllib`` for more\n",
      "        details, and for more examples on storage options refer `here\n",
      "        <https://pandas.pydata.org/docs/user_guide/io.html?\n",
      "        highlight=storage_options#reading-writing-remote-files>`_.\n",
      "    \n",
      "        .. versionadded:: 1.2\n",
      "    \n",
      "    Returns\n",
      "    -------\n",
      "    DataFrame or TextParser\n",
      "        A comma-separated values (csv) file is returned as two-dimensional\n",
      "        data structure with labeled axes.\n",
      "    \n",
      "    See Also\n",
      "    --------\n",
      "    DataFrame.to_csv : Write DataFrame to a comma-separated values (csv) file.\n",
      "    read_csv : Read a comma-separated values (csv) file into DataFrame.\n",
      "    read_fwf : Read a table of fixed-width formatted lines into DataFrame.\n",
      "    \n",
      "    Examples\n",
      "    --------\n",
      "    >>> pd.read_csv('data.csv')  # doctest: +SKIP\n",
      "\n"
     ]
    }
   ],
   "source": [
    "help(pd.read_csv)"
   ]
  },
  {
   "cell_type": "code",
   "execution_count": 4,
   "metadata": {},
   "outputs": [],
   "source": [
    "adv1_df = pd.read_csv('advertising_1.csv', index_col='Number')"
   ]
  },
  {
   "cell_type": "code",
   "execution_count": 5,
   "metadata": {},
   "outputs": [
    {
     "data": {
      "text/html": [
       "<div>\n",
       "<style scoped>\n",
       "    .dataframe tbody tr th:only-of-type {\n",
       "        vertical-align: middle;\n",
       "    }\n",
       "\n",
       "    .dataframe tbody tr th {\n",
       "        vertical-align: top;\n",
       "    }\n",
       "\n",
       "    .dataframe thead th {\n",
       "        text-align: right;\n",
       "    }\n",
       "</style>\n",
       "<table border=\"1\" class=\"dataframe\">\n",
       "  <thead>\n",
       "    <tr style=\"text-align: right;\">\n",
       "      <th></th>\n",
       "      <th>Daily Time Spent on Site</th>\n",
       "      <th>Daily Internet Usage</th>\n",
       "      <th>Ad Topic Line</th>\n",
       "      <th>Clicked on Ad</th>\n",
       "    </tr>\n",
       "    <tr>\n",
       "      <th>Number</th>\n",
       "      <th></th>\n",
       "      <th></th>\n",
       "      <th></th>\n",
       "      <th></th>\n",
       "    </tr>\n",
       "  </thead>\n",
       "  <tbody>\n",
       "    <tr>\n",
       "      <th>5</th>\n",
       "      <td>68.95</td>\n",
       "      <td>256.09</td>\n",
       "      <td>Cloned 5thgeneration orchestration</td>\n",
       "      <td>0</td>\n",
       "    </tr>\n",
       "    <tr>\n",
       "      <th>6</th>\n",
       "      <td>80.23</td>\n",
       "      <td>193.77</td>\n",
       "      <td>Monitored national standardization</td>\n",
       "      <td>0</td>\n",
       "    </tr>\n",
       "    <tr>\n",
       "      <th>8</th>\n",
       "      <td>74.15</td>\n",
       "      <td>245.89</td>\n",
       "      <td>Triple-buffered reciprocal time-frame</td>\n",
       "      <td>0</td>\n",
       "    </tr>\n",
       "    <tr>\n",
       "      <th>9</th>\n",
       "      <td>NaN</td>\n",
       "      <td>225.58</td>\n",
       "      <td>Robust logistical utilization</td>\n",
       "      <td>0</td>\n",
       "    </tr>\n",
       "    <tr>\n",
       "      <th>10</th>\n",
       "      <td>59.99</td>\n",
       "      <td>226.74</td>\n",
       "      <td>Sharable client-driven software</td>\n",
       "      <td>0</td>\n",
       "    </tr>\n",
       "    <tr>\n",
       "      <th>11</th>\n",
       "      <td>88.91</td>\n",
       "      <td>208.36</td>\n",
       "      <td>Enhanced dedicated support</td>\n",
       "      <td>0</td>\n",
       "    </tr>\n",
       "    <tr>\n",
       "      <th>12</th>\n",
       "      <td>NaN</td>\n",
       "      <td>131.76</td>\n",
       "      <td>Reactive local challenge</td>\n",
       "      <td>1</td>\n",
       "    </tr>\n",
       "    <tr>\n",
       "      <th>13</th>\n",
       "      <td>74.53</td>\n",
       "      <td>NaN</td>\n",
       "      <td>Configurable coherent function</td>\n",
       "      <td>0</td>\n",
       "    </tr>\n",
       "    <tr>\n",
       "      <th>14</th>\n",
       "      <td>69.88</td>\n",
       "      <td>183.82</td>\n",
       "      <td>Mandatory homogeneous architecture</td>\n",
       "      <td>0</td>\n",
       "    </tr>\n",
       "    <tr>\n",
       "      <th>15</th>\n",
       "      <td>47.64</td>\n",
       "      <td>122.02</td>\n",
       "      <td>Centralized neutral neural-net</td>\n",
       "      <td>1</td>\n",
       "    </tr>\n",
       "  </tbody>\n",
       "</table>\n",
       "</div>"
      ],
      "text/plain": [
       "        Daily Time Spent on Site  Daily Internet Usage  \\\n",
       "Number                                                   \n",
       "5                          68.95                256.09   \n",
       "6                          80.23                193.77   \n",
       "8                          74.15                245.89   \n",
       "9                            NaN                225.58   \n",
       "10                         59.99                226.74   \n",
       "11                         88.91                208.36   \n",
       "12                           NaN                131.76   \n",
       "13                         74.53                   NaN   \n",
       "14                         69.88                183.82   \n",
       "15                         47.64                122.02   \n",
       "\n",
       "                                Ad Topic Line  Clicked on Ad  \n",
       "Number                                                        \n",
       "5          Cloned 5thgeneration orchestration              0  \n",
       "6          Monitored national standardization              0  \n",
       "8       Triple-buffered reciprocal time-frame              0  \n",
       "9               Robust logistical utilization              0  \n",
       "10            Sharable client-driven software              0  \n",
       "11                 Enhanced dedicated support              0  \n",
       "12                   Reactive local challenge              1  \n",
       "13             Configurable coherent function              0  \n",
       "14         Mandatory homogeneous architecture              0  \n",
       "15             Centralized neutral neural-net              1  "
      ]
     },
     "execution_count": 5,
     "metadata": {},
     "output_type": "execute_result"
    }
   ],
   "source": [
    "adv1_df.head(10)"
   ]
  },
  {
   "cell_type": "markdown",
   "metadata": {
    "id": "cViBXi62OjpP"
   },
   "source": [
    "***Задача 2***\n",
    "\n",
    "Выведите размер датафрейма `adv1_df`."
   ]
  },
  {
   "cell_type": "code",
   "execution_count": 6,
   "metadata": {
    "ExecuteTime": {
     "end_time": "2021-10-24T10:41:11.069411Z",
     "start_time": "2021-10-24T10:41:11.066371Z"
    },
    "id": "Tx2VYklzOjpQ"
   },
   "outputs": [
    {
     "name": "stdout",
     "output_type": "stream",
     "text": [
      "(500, 4)\n"
     ]
    }
   ],
   "source": [
    "size = adv1_df.shape\n",
    "print(size)"
   ]
  },
  {
   "cell_type": "code",
   "execution_count": 7,
   "metadata": {},
   "outputs": [
    {
     "name": "stdout",
     "output_type": "stream",
     "text": [
      "(500, 4)\n"
     ]
    }
   ],
   "source": [
    "print(adv1_df.shape)"
   ]
  },
  {
   "cell_type": "markdown",
   "metadata": {
    "ExecuteTime": {
     "end_time": "2021-10-24T10:44:08.227238Z",
     "start_time": "2021-10-24T10:44:08.222208Z"
    },
    "id": "g6aonGrwOjpR"
   },
   "source": [
    "***Задача 3***\n",
    "\n",
    "Выведите cреднее ежедневное время нахождения в интернете пользователя под номером 8."
   ]
  },
  {
   "cell_type": "code",
   "execution_count": 8,
   "metadata": {
    "id": "VMD2ymWQOjpR"
   },
   "outputs": [
    {
     "name": "stdout",
     "output_type": "stream",
     "text": [
      "245.89\n"
     ]
    }
   ],
   "source": [
    "print(adv1_df.loc[8, 'Daily Internet Usage'].mean())  "
   ]
  },
  {
   "cell_type": "markdown",
   "metadata": {
    "id": "BiUTqgnWOjpS"
   },
   "source": [
    "***Задача 4***\n",
    "\n",
    "Загрузите таблицу из файла `advertising_2.csv` и сохраните её в датафрейм `adv2_df`. Укажите в качестве индекса стоблец `Number`. Выведите на экран строки для пользователей с номерами с 533-го по 536-й."
   ]
  },
  {
   "cell_type": "code",
   "execution_count": 9,
   "metadata": {
    "id": "163Nee-yOjpS"
   },
   "outputs": [],
   "source": [
    "adv2_df = pd.read_csv('advertising_2.csv', index_col='Number')"
   ]
  },
  {
   "cell_type": "code",
   "execution_count": 10,
   "metadata": {},
   "outputs": [
    {
     "data": {
      "text/html": [
       "<div>\n",
       "<style scoped>\n",
       "    .dataframe tbody tr th:only-of-type {\n",
       "        vertical-align: middle;\n",
       "    }\n",
       "\n",
       "    .dataframe tbody tr th {\n",
       "        vertical-align: top;\n",
       "    }\n",
       "\n",
       "    .dataframe thead th {\n",
       "        text-align: right;\n",
       "    }\n",
       "</style>\n",
       "<table border=\"1\" class=\"dataframe\">\n",
       "  <thead>\n",
       "    <tr style=\"text-align: right;\">\n",
       "      <th></th>\n",
       "      <th>Daily Time Spent on Site</th>\n",
       "      <th>Daily Internet Usage</th>\n",
       "      <th>Ad Topic Line</th>\n",
       "      <th>Clicked on Ad</th>\n",
       "    </tr>\n",
       "    <tr>\n",
       "      <th>Number</th>\n",
       "      <th></th>\n",
       "      <th></th>\n",
       "      <th></th>\n",
       "      <th></th>\n",
       "    </tr>\n",
       "  </thead>\n",
       "  <tbody>\n",
       "    <tr>\n",
       "      <th>530</th>\n",
       "      <td>NaN</td>\n",
       "      <td>165.27</td>\n",
       "      <td>Re-engineered impactful software</td>\n",
       "      <td>0</td>\n",
       "    </tr>\n",
       "    <tr>\n",
       "      <th>531</th>\n",
       "      <td>43.65</td>\n",
       "      <td>NaN</td>\n",
       "      <td>Business-focused background synergy</td>\n",
       "      <td>1</td>\n",
       "    </tr>\n",
       "    <tr>\n",
       "      <th>532</th>\n",
       "      <td>59.61</td>\n",
       "      <td>198.45</td>\n",
       "      <td>Future-proofed coherent budgetary management</td>\n",
       "      <td>0</td>\n",
       "    </tr>\n",
       "    <tr>\n",
       "      <th>533</th>\n",
       "      <td>46.61</td>\n",
       "      <td>NaN</td>\n",
       "      <td>Ergonomic methodical encoding</td>\n",
       "      <td>1</td>\n",
       "    </tr>\n",
       "    <tr>\n",
       "      <th>534</th>\n",
       "      <td>NaN</td>\n",
       "      <td>162.03</td>\n",
       "      <td>Compatible dedicated productivity</td>\n",
       "      <td>0</td>\n",
       "    </tr>\n",
       "    <tr>\n",
       "      <th>535</th>\n",
       "      <td>65.10</td>\n",
       "      <td>118.10</td>\n",
       "      <td>Up-sized real-time methodology</td>\n",
       "      <td>1</td>\n",
       "    </tr>\n",
       "    <tr>\n",
       "      <th>536</th>\n",
       "      <td>53.44</td>\n",
       "      <td>NaN</td>\n",
       "      <td>Up-sized next generation architecture</td>\n",
       "      <td>1</td>\n",
       "    </tr>\n",
       "    <tr>\n",
       "      <th>537</th>\n",
       "      <td>79.53</td>\n",
       "      <td>244.91</td>\n",
       "      <td>Managed 6thgeneration hierarchy</td>\n",
       "      <td>0</td>\n",
       "    </tr>\n",
       "    <tr>\n",
       "      <th>538</th>\n",
       "      <td>91.43</td>\n",
       "      <td>209.91</td>\n",
       "      <td>Organic motivating model</td>\n",
       "      <td>0</td>\n",
       "    </tr>\n",
       "    <tr>\n",
       "      <th>539</th>\n",
       "      <td>73.57</td>\n",
       "      <td>212.38</td>\n",
       "      <td>Pre-emptive transitional protocol</td>\n",
       "      <td>0</td>\n",
       "    </tr>\n",
       "  </tbody>\n",
       "</table>\n",
       "</div>"
      ],
      "text/plain": [
       "        Daily Time Spent on Site  Daily Internet Usage  \\\n",
       "Number                                                   \n",
       "530                          NaN                165.27   \n",
       "531                        43.65                   NaN   \n",
       "532                        59.61                198.45   \n",
       "533                        46.61                   NaN   \n",
       "534                          NaN                162.03   \n",
       "535                        65.10                118.10   \n",
       "536                        53.44                   NaN   \n",
       "537                        79.53                244.91   \n",
       "538                        91.43                209.91   \n",
       "539                        73.57                212.38   \n",
       "\n",
       "                                       Ad Topic Line  Clicked on Ad  \n",
       "Number                                                               \n",
       "530                 Re-engineered impactful software              0  \n",
       "531              Business-focused background synergy              1  \n",
       "532     Future-proofed coherent budgetary management              0  \n",
       "533                    Ergonomic methodical encoding              1  \n",
       "534                Compatible dedicated productivity              0  \n",
       "535                   Up-sized real-time methodology              1  \n",
       "536            Up-sized next generation architecture              1  \n",
       "537                  Managed 6thgeneration hierarchy              0  \n",
       "538                         Organic motivating model              0  \n",
       "539                Pre-emptive transitional protocol              0  "
      ]
     },
     "execution_count": 10,
     "metadata": {},
     "output_type": "execute_result"
    }
   ],
   "source": [
    "adv2_df.head(10)"
   ]
  },
  {
   "cell_type": "code",
   "execution_count": 11,
   "metadata": {},
   "outputs": [
    {
     "name": "stdout",
     "output_type": "stream",
     "text": [
      "Number\n",
      "535    65.10\n",
      "536    53.44\n",
      "537    79.53\n",
      "Name: Daily Time Spent on Site, dtype: float64\n"
     ]
    }
   ],
   "source": [
    "print(adv2_df.iloc[5:8, 0]) "
   ]
  },
  {
   "cell_type": "markdown",
   "metadata": {
    "id": "Z-GqzM_oOjpT"
   },
   "source": [
    "***Задача 5***\n",
    "\n",
    "Выведите сводную таблицу описательных статистик для датафрейма `adv2_df`, вызвав необходимый метод на всём датафрейме. \n",
    "\n",
    "Глядя на вывод, напишите, столбец с каким названием не содержит незаполненных значений.\n",
    "\n",
    "*Подсказка:*  В сводной таблице не содержится информации о количестве строк всего датафрейма, поэтому для сначала распечатайте общее количество строк датафрейма.\n",
    "\n",
    "*Рекомендация:* Кроме изученного метода `describe` для описания датафрейма и получения информации о пропущенных значениях полезен метод [`info`](https://pandas.pydata.org/docs/reference/api/pandas.DataFrame.info.html)."
   ]
  },
  {
   "cell_type": "code",
   "execution_count": 12,
   "metadata": {
    "id": "YdCXCVRFOjpT",
    "scrolled": true
   },
   "outputs": [
    {
     "data": {
      "text/html": [
       "<div>\n",
       "<style scoped>\n",
       "    .dataframe tbody tr th:only-of-type {\n",
       "        vertical-align: middle;\n",
       "    }\n",
       "\n",
       "    .dataframe tbody tr th {\n",
       "        vertical-align: top;\n",
       "    }\n",
       "\n",
       "    .dataframe thead th {\n",
       "        text-align: right;\n",
       "    }\n",
       "</style>\n",
       "<table border=\"1\" class=\"dataframe\">\n",
       "  <thead>\n",
       "    <tr style=\"text-align: right;\">\n",
       "      <th></th>\n",
       "      <th>Daily Time Spent on Site</th>\n",
       "      <th>Daily Internet Usage</th>\n",
       "      <th>Clicked on Ad</th>\n",
       "    </tr>\n",
       "  </thead>\n",
       "  <tbody>\n",
       "    <tr>\n",
       "      <th>count</th>\n",
       "      <td>184.000000</td>\n",
       "      <td>184.000000</td>\n",
       "      <td>200.000000</td>\n",
       "    </tr>\n",
       "    <tr>\n",
       "      <th>mean</th>\n",
       "      <td>66.494728</td>\n",
       "      <td>186.809674</td>\n",
       "      <td>0.420000</td>\n",
       "    </tr>\n",
       "    <tr>\n",
       "      <th>std</th>\n",
       "      <td>15.414725</td>\n",
       "      <td>43.844580</td>\n",
       "      <td>0.494797</td>\n",
       "    </tr>\n",
       "    <tr>\n",
       "      <th>min</th>\n",
       "      <td>32.910000</td>\n",
       "      <td>108.030000</td>\n",
       "      <td>0.000000</td>\n",
       "    </tr>\n",
       "    <tr>\n",
       "      <th>25%</th>\n",
       "      <td>52.805000</td>\n",
       "      <td>148.955000</td>\n",
       "      <td>0.000000</td>\n",
       "    </tr>\n",
       "    <tr>\n",
       "      <th>50%</th>\n",
       "      <td>71.150000</td>\n",
       "      <td>194.170000</td>\n",
       "      <td>0.000000</td>\n",
       "    </tr>\n",
       "    <tr>\n",
       "      <th>75%</th>\n",
       "      <td>78.352500</td>\n",
       "      <td>225.372500</td>\n",
       "      <td>1.000000</td>\n",
       "    </tr>\n",
       "    <tr>\n",
       "      <th>max</th>\n",
       "      <td>91.430000</td>\n",
       "      <td>259.760000</td>\n",
       "      <td>1.000000</td>\n",
       "    </tr>\n",
       "  </tbody>\n",
       "</table>\n",
       "</div>"
      ],
      "text/plain": [
       "       Daily Time Spent on Site  Daily Internet Usage  Clicked on Ad\n",
       "count                184.000000            184.000000     200.000000\n",
       "mean                  66.494728            186.809674       0.420000\n",
       "std                   15.414725             43.844580       0.494797\n",
       "min                   32.910000            108.030000       0.000000\n",
       "25%                   52.805000            148.955000       0.000000\n",
       "50%                   71.150000            194.170000       0.000000\n",
       "75%                   78.352500            225.372500       1.000000\n",
       "max                   91.430000            259.760000       1.000000"
      ]
     },
     "execution_count": 12,
     "metadata": {},
     "output_type": "execute_result"
    }
   ],
   "source": [
    "adv2_df.describe()"
   ]
  },
  {
   "cell_type": "code",
   "execution_count": 13,
   "metadata": {},
   "outputs": [
    {
     "name": "stdout",
     "output_type": "stream",
     "text": [
      "200\n"
     ]
    }
   ],
   "source": [
    "print(adv2_df.shape[0])\n",
    "adv2_df.describe().T\n",
    "def no_blank_cols(df):\n",
    "    cols = [col for col in df.columns if df[col].isna().sum() < 0]\n",
    "    print(cols)"
   ]
  },
  {
   "cell_type": "code",
   "execution_count": 14,
   "metadata": {},
   "outputs": [
    {
     "data": {
      "text/plain": [
       "(200, 4)"
      ]
     },
     "execution_count": 14,
     "metadata": {},
     "output_type": "execute_result"
    }
   ],
   "source": [
    "adv2_df.shape"
   ]
  },
  {
   "cell_type": "code",
   "execution_count": 15,
   "metadata": {},
   "outputs": [
    {
     "name": "stdout",
     "output_type": "stream",
     "text": [
      "<class 'pandas.core.frame.DataFrame'>\n",
      "Int64Index: 200 entries, 530 to 739\n",
      "Data columns (total 4 columns):\n",
      " #   Column                    Non-Null Count  Dtype  \n",
      "---  ------                    --------------  -----  \n",
      " 0   Daily Time Spent on Site  184 non-null    float64\n",
      " 1   Daily Internet Usage      184 non-null    float64\n",
      " 2   Ad Topic Line             200 non-null    object \n",
      " 3   Clicked on Ad             200 non-null    int64  \n",
      "dtypes: float64(2), int64(1), object(1)\n",
      "memory usage: 7.8+ KB\n"
     ]
    }
   ],
   "source": [
    "adv2_df.info()"
   ]
  },
  {
   "cell_type": "code",
   "execution_count": 16,
   "metadata": {
    "id": "ffzR3QR4OjpU"
   },
   "outputs": [
    {
     "name": "stdout",
     "output_type": "stream",
     "text": [
      "Total number of rows: 200\n",
      "Не содержит незаполненных значений столбец: Clicked on Ad\n",
      "       Daily Time Spent on Site  Daily Internet Usage  Clicked on Ad\n",
      "count                184.000000            184.000000     200.000000\n",
      "mean                  66.494728            186.809674       0.420000\n",
      "std                   15.414725             43.844580       0.494797\n",
      "min                   32.910000            108.030000       0.000000\n",
      "25%                   52.805000            148.955000       0.000000\n",
      "50%                   71.150000            194.170000       0.000000\n",
      "75%                   78.352500            225.372500       1.000000\n",
      "max                   91.430000            259.760000       1.000000\n"
     ]
    }
   ],
   "source": [
    "print('Total number of rows:', len(adv2_df))\n",
    "summary = adv2_df.describe()\n",
    "\n",
    "\n",
    "no_missing = summary.columns[summary.loc['count'] == len(adv2_df)]\n",
    "\n",
    "print('Не содержит незаполненных значений столбец:', no_missing[0])\n",
    "print(summary)"
   ]
  },
  {
   "cell_type": "code",
   "execution_count": 30,
   "metadata": {},
   "outputs": [
    {
     "name": "stdout",
     "output_type": "stream",
     "text": [
      "Total number of rows: 200\n",
      "Columns without missing values: ['Ad Topic Line', 'Clicked on Ad']\n"
     ]
    }
   ],
   "source": [
    "print('Total number of rows:', len(adv2_df))\n",
    "no_missing = adv2_df.columns[adv2_df.notnull().all()]\n",
    "print('Columns without missing values:', list(no_missing))"
   ]
  },
  {
   "cell_type": "code",
   "execution_count": 18,
   "metadata": {},
   "outputs": [
    {
     "name": "stdout",
     "output_type": "stream",
     "text": [
      "Empty DataFrame\n",
      "Columns: [Daily Time Spent on Site, Daily Internet Usage, Ad Topic Line, Clicked on Ad]\n",
      "Index: []\n"
     ]
    }
   ],
   "source": [
    "missing_data = adv2_df[adv2_df['Clicked on Ad'].isnull()]\n",
    "print(missing_data)"
   ]
  },
  {
   "cell_type": "markdown",
   "metadata": {
    "id": "jZRi7W6hOjpV"
   },
   "source": [
    "***Задача 6***\n",
    "\n",
    "Добавьте к датафрейму `adv1_df` в конец датафрейм `adv2_df` с помощью метода `append`. \n",
    "\n",
    "Сохраните объединенный датафрейм в новой переменной `adv12_df` и распечатайте его."
   ]
  },
  {
   "cell_type": "code",
   "execution_count": 19,
   "metadata": {
    "id": "Pdzid3aeOjpV"
   },
   "outputs": [
    {
     "name": "stdout",
     "output_type": "stream",
     "text": [
      "        Daily Time Spent on Site  Daily Internet Usage  \\\n",
      "Number                                                   \n",
      "5                          68.95                256.09   \n",
      "6                          80.23                193.77   \n",
      "8                          74.15                245.89   \n",
      "9                            NaN                225.58   \n",
      "10                         59.99                226.74   \n",
      "...                          ...                   ...   \n",
      "735                        65.53                190.17   \n",
      "736                        61.87                   NaN   \n",
      "737                        83.16                   NaN   \n",
      "738                        44.11                121.24   \n",
      "739                        56.57                131.98   \n",
      "\n",
      "                                    Ad Topic Line  Clicked on Ad  \n",
      "Number                                                            \n",
      "5              Cloned 5thgeneration orchestration              0  \n",
      "6              Monitored national standardization              0  \n",
      "8           Triple-buffered reciprocal time-frame              0  \n",
      "9                   Robust logistical utilization              0  \n",
      "10                Sharable client-driven software              0  \n",
      "...                                           ...            ...  \n",
      "735        Pre-emptive client-server installation              0  \n",
      "736     Multi-channeled attitude-oriented toolset              0  \n",
      "737                 Decentralized 24hour approach              0  \n",
      "738                Organic next generation matrix              1  \n",
      "739          Multi-channeled non-volatile website              1  \n",
      "\n",
      "[700 rows x 4 columns]\n"
     ]
    },
    {
     "name": "stderr",
     "output_type": "stream",
     "text": [
      "C:\\Users\\user\\AppData\\Local\\Temp\\ipykernel_11420\\2213267692.py:1: FutureWarning: The frame.append method is deprecated and will be removed from pandas in a future version. Use pandas.concat instead.\n",
      "  adv12_df = adv1_df.append(adv2_df)\n"
     ]
    }
   ],
   "source": [
    "adv12_df = adv1_df.append(adv2_df)\n",
    "print(adv12_df)"
   ]
  },
  {
   "cell_type": "code",
   "execution_count": 31,
   "metadata": {},
   "outputs": [
    {
     "name": "stdout",
     "output_type": "stream",
     "text": [
      "        Daily Time Spent on Site  Daily Internet Usage  \\\n",
      "Number                                                   \n",
      "5                          68.95                256.09   \n",
      "6                          80.23                193.77   \n",
      "8                          74.15                245.89   \n",
      "9                            NaN                225.58   \n",
      "10                         59.99                226.74   \n",
      "...                          ...                   ...   \n",
      "735                        65.53                190.17   \n",
      "736                        61.87                   NaN   \n",
      "737                        83.16                   NaN   \n",
      "738                        44.11                121.24   \n",
      "739                        56.57                131.98   \n",
      "\n",
      "                                    Ad Topic Line  Clicked on Ad  \n",
      "Number                                                            \n",
      "5              Cloned 5thgeneration orchestration              0  \n",
      "6              Monitored national standardization              0  \n",
      "8           Triple-buffered reciprocal time-frame              0  \n",
      "9                   Robust logistical utilization              0  \n",
      "10                Sharable client-driven software              0  \n",
      "...                                           ...            ...  \n",
      "735        Pre-emptive client-server installation              0  \n",
      "736     Multi-channeled attitude-oriented toolset              0  \n",
      "737                 Decentralized 24hour approach              0  \n",
      "738                Organic next generation matrix              1  \n",
      "739          Multi-channeled non-volatile website              1  \n",
      "\n",
      "[700 rows x 4 columns]\n"
     ]
    }
   ],
   "source": [
    "adv12_df = pd.concat([adv1_df, adv2_df])\n",
    "print(adv12_df)"
   ]
  },
  {
   "cell_type": "markdown",
   "metadata": {
    "id": "1Z8KPJzgOjpV"
   },
   "source": [
    "***Задача 7***\n",
    "\n",
    "Для объединённого датафрейма `adv12_df` распечатайте среднее время, проводимое пользователем на сайте компании."
   ]
  },
  {
   "cell_type": "code",
   "execution_count": 21,
   "metadata": {
    "id": "-eKw3Vs5OjpV"
   },
   "outputs": [
    {
     "name": "stdout",
     "output_type": "stream",
     "text": [
      "65.57268138801263\n"
     ]
    }
   ],
   "source": [
    "print(adv12_df['Daily Time Spent on Site'].mean())"
   ]
  },
  {
   "cell_type": "markdown",
   "metadata": {
    "id": "45BOoBbNOjpW"
   },
   "source": [
    "***Задача 8***\n",
    "\n",
    "Из объединённого датафрейма `adv12_df` выберите и распечатайте строки только с теми пользователями, для которых неизвестно среднее ежедневное время, проводимое пользователем на сайте компании."
   ]
  },
  {
   "cell_type": "code",
   "execution_count": 22,
   "metadata": {
    "id": "gNVYkRPXOjpW"
   },
   "outputs": [
    {
     "name": "stdout",
     "output_type": "stream",
     "text": [
      "        Daily Time Spent on Site  Daily Internet Usage  \\\n",
      "Number                                                   \n",
      "9                            NaN                225.58   \n",
      "12                           NaN                131.76   \n",
      "19                           NaN                143.56   \n",
      "27                           NaN                164.83   \n",
      "34                           NaN                209.82   \n",
      "...                          ...                   ...   \n",
      "672                          NaN                235.97   \n",
      "674                          NaN                126.44   \n",
      "685                          NaN                200.71   \n",
      "690                          NaN                226.69   \n",
      "731                          NaN                225.05   \n",
      "\n",
      "                                  Ad Topic Line  Clicked on Ad  \n",
      "Number                                                          \n",
      "9                 Robust logistical utilization              0  \n",
      "12                     Reactive local challenge              1  \n",
      "19                Grass-roots coherent extranet              1  \n",
      "27        Mandatory disintermediate utilization              1  \n",
      "34      Business-focused value-added definition              0  \n",
      "...                                         ...            ...  \n",
      "672            Customizable value-added project              0  \n",
      "674                Reactive impactful challenge              1  \n",
      "685               Focused multi-state workforce              0  \n",
      "690               Total coherent superstructure              0  \n",
      "731             Multi-tiered heuristic strategy              0  \n",
      "\n",
      "[66 rows x 4 columns]\n"
     ]
    }
   ],
   "source": [
    "missing_data = adv12_df[adv12_df['Daily Time Spent on Site'].isnull()]\n",
    "print(missing_data)"
   ]
  },
  {
   "cell_type": "markdown",
   "metadata": {
    "id": "bi0CQTuIOjpX"
   },
   "source": [
    "***Задача 9***\n",
    "\n",
    "Загрузите таблицу из файла `advertising_3.csv` и сохраните её в датафрейм `adv3_df`. Укажите в качестве индекса стоблец `Number`. Выведите на экран столбцы `Ad Topic Line` и `Clicked on Ad`."
   ]
  },
  {
   "cell_type": "code",
   "execution_count": 32,
   "metadata": {
    "id": "5QhJpljHOjpX"
   },
   "outputs": [],
   "source": [
    "adv3_df = pd.read_csv('advertising_3.csv', index_col='Number')"
   ]
  },
  {
   "cell_type": "code",
   "execution_count": 33,
   "metadata": {
    "scrolled": true
   },
   "outputs": [
    {
     "name": "stdout",
     "output_type": "stream",
     "text": [
      "                                       Ad Topic Line  Clicked on Ad\n",
      "Number                                                             \n",
      "740                 Distributed bifurcated challenge              0\n",
      "741       Customizable zero-defect Internet solution              0\n",
      "742     Self-enabling zero administration neural-net              1\n",
      "744           Open-architected system-worthy ability              0\n",
      "745               Quality-focused maximized extranet              1\n",
      "...                                              ...            ...\n",
      "999                    Front-line bifurcated ability              1\n",
      "1000                   Fundamental modular algorithm              1\n",
      "1001                 Grass-roots cohesive monitoring              1\n",
      "1002                    Expanded intangible solution              1\n",
      "1003            Proactive bandwidth-monitored policy              0\n",
      "\n",
      "[251 rows x 2 columns]\n"
     ]
    }
   ],
   "source": [
    "print(adv3_df[['Ad Topic Line', 'Clicked on Ad']])"
   ]
  },
  {
   "cell_type": "markdown",
   "metadata": {
    "ExecuteTime": {
     "end_time": "2021-10-24T12:58:20.476305Z",
     "start_time": "2021-10-24T12:58:20.469693Z"
    },
    "id": "ni-452GIOjpX"
   },
   "source": [
    "***Задача 10***\n",
    "\n",
    "Добавьте к датафрейму `adv12_df` в конец датафрейм `adv3_df` с помощью метода `concat`. Явно пропишите значение параметра `axis`.\n",
    "\n",
    "Сохраните объединённый датафрейм в новой переменной `adv123_df` и распечатайте его."
   ]
  },
  {
   "cell_type": "code",
   "execution_count": 34,
   "metadata": {
    "ExecuteTime": {
     "end_time": "2021-10-24T12:58:33.992975Z",
     "start_time": "2021-10-24T12:58:33.990598Z"
    },
    "id": "FGRZ6HkDOjpY"
   },
   "outputs": [
    {
     "name": "stdout",
     "output_type": "stream",
     "text": [
      "        Daily Time Spent on Site  Daily Internet Usage  \\\n",
      "Number                                                   \n",
      "5                          68.95                256.09   \n",
      "6                          80.23                193.77   \n",
      "8                          74.15                245.89   \n",
      "9                            NaN                225.58   \n",
      "10                         59.99                226.74   \n",
      "...                          ...                   ...   \n",
      "999                        43.70                173.01   \n",
      "1000                       72.97                208.58   \n",
      "1001                       51.30                   NaN   \n",
      "1002                       51.63                120.37   \n",
      "1003                       55.55                187.95   \n",
      "\n",
      "                                Ad Topic Line  Clicked on Ad  \n",
      "Number                                                        \n",
      "5          Cloned 5thgeneration orchestration              0  \n",
      "6          Monitored national standardization              0  \n",
      "8       Triple-buffered reciprocal time-frame              0  \n",
      "9               Robust logistical utilization              0  \n",
      "10            Sharable client-driven software              0  \n",
      "...                                       ...            ...  \n",
      "999             Front-line bifurcated ability              1  \n",
      "1000            Fundamental modular algorithm              1  \n",
      "1001          Grass-roots cohesive monitoring              1  \n",
      "1002             Expanded intangible solution              1  \n",
      "1003     Proactive bandwidth-monitored policy              0  \n",
      "\n",
      "[951 rows x 4 columns]\n"
     ]
    }
   ],
   "source": [
    "adv123_df = pd.concat([adv12_df, adv3_df], axis=0)\n",
    "print(adv123_df)"
   ]
  },
  {
   "cell_type": "markdown",
   "metadata": {
    "id": "_oRCVzahOjpY"
   },
   "source": [
    "***Задача 11***\n",
    "\n",
    "Для объединённого датафрейма `adv123_df` выберите только те строки, в которых пользователи кликнули на рекламное сообщение. Сохраните полученный результат в датафрейм `success_adv_df`, распечатайте размер нового датафрейма."
   ]
  },
  {
   "cell_type": "code",
   "execution_count": 35,
   "metadata": {},
   "outputs": [
    {
     "name": "stdout",
     "output_type": "stream",
     "text": [
      "475\n"
     ]
    }
   ],
   "source": [
    "success_adv_df = adv123_df[adv123_df['Clicked on Ad'] > 0]\n",
    "print(success_adv_df['Clicked on Ad'].count())"
   ]
  },
  {
   "cell_type": "markdown",
   "metadata": {
    "id": "xuFXaMy6OjpZ"
   },
   "source": [
    "***Задача 12***\n",
    "\n",
    "Загрузите таблицу с данными пользователей из файла `users.csv` и сохраните её в датафрейм `users_df`. Индекс не указывайте.\n",
    "\n",
    "Распечатайте сам датафрейм и сводную таблицу со статистиками для него."
   ]
  },
  {
   "cell_type": "code",
   "execution_count": 36,
   "metadata": {
    "id": "mrmK3IxLOjpZ"
   },
   "outputs": [
    {
     "name": "stdout",
     "output_type": "stream",
     "text": [
      "     Number   Age  Male            City                 Country  Area Income\n",
      "0         5   NaN   0.0     Wrightburgh                 Tunisia     61833.90\n",
      "1         6  31.0   NaN       West Jodi                   Nauru     68441.85\n",
      "2         7  26.0   0.0        Davidton              San Marino     59785.94\n",
      "3         8  29.0   1.0  West Terrifurt                   Italy     54806.18\n",
      "4         9   NaN   0.0    South Manuel                 Iceland     73889.99\n",
      "..      ...   ...   ...             ...                     ...          ...\n",
      "975    1000  30.0   NaN       Duffystad                 Lebanon     71384.57\n",
      "976    1001  45.0   1.0     New Darlene  Bosnia and Herzegovina     67782.17\n",
      "977    1002  51.0   NaN   South Jessica                Mongolia     42415.72\n",
      "978    1003  19.0   0.0     West Steven               Guatemala     41920.79\n",
      "979    1004  26.0   0.0     Ronniemouth                  Brazil     29875.80\n",
      "\n",
      "[980 rows x 6 columns]\n",
      "            Number         Age        Male   Area Income\n",
      "count   980.000000  860.000000  868.000000    903.000000\n",
      "mean    504.485714   36.073256    0.500000  55010.631938\n",
      "std     287.956480    8.795992    0.500288  13423.710892\n",
      "min       5.000000   19.000000    0.000000  13996.500000\n",
      "25%     255.750000   29.000000    0.000000  46947.570000\n",
      "50%     503.500000   35.000000    0.500000  57032.360000\n",
      "75%     753.250000   42.000000    1.000000  65537.990000\n",
      "max    1004.000000   61.000000    1.000000  79484.800000\n"
     ]
    }
   ],
   "source": [
    "import pandas as pd\n",
    "\n",
    "users_df = pd.read_csv('users.csv')\n",
    "print(users_df)\n",
    "print(users_df.describe())"
   ]
  },
  {
   "cell_type": "markdown",
   "metadata": {
    "ExecuteTime": {
     "end_time": "2021-10-24T13:57:38.550026Z",
     "start_time": "2021-10-24T13:57:38.545212Z"
    },
    "id": "WJ00AZrXOjpZ"
   },
   "source": [
    "***Задача 13***\n",
    "\n",
    "Глядя на статистики `users_df`, укажите значения, удовлетворяющие следующим условиям:\n",
    "1. Возраст самого молодого пользователя сайта: *ваш_ответ*\n",
    "2. Максимальный средний доход в месте жительства пользователя сайта: *ваш_ответ*\n",
    "3. Средний возраст пользователя сайта: *ваш_ответ*\n",
    "4. Количество заполненных значений для колонки, содержащей информацию о том, является пользователь мужчиной или нет: *ваш_ответ*\n",
    "5. Минимальный номер пользователя: *ваш_ответ*\n",
    "\n",
    "В этом задании не требуется выбирать по условиям и распечатывать значения, достаточно внимательно посмотреть на статистики и скопировать нужные значения согласно вопросам."
   ]
  },
  {
   "cell_type": "code",
   "execution_count": 37,
   "metadata": {},
   "outputs": [
    {
     "name": "stdout",
     "output_type": "stream",
     "text": [
      "     Number  Daily Time Spent on Site  Daily Internet Usage  \\\n",
      "0        12                       NaN                131.76   \n",
      "1        15                     47.64                122.02   \n",
      "2        17                     69.57                113.12   \n",
      "3        19                       NaN                143.56   \n",
      "4        20                     63.45                140.64   \n",
      "..      ...                       ...                   ...   \n",
      "459     997                     69.17                123.62   \n",
      "460     999                     43.70                173.01   \n",
      "461    1000                     72.97                208.58   \n",
      "462    1001                     51.30                   NaN   \n",
      "463    1002                     51.63                120.37   \n",
      "\n",
      "                             Ad Topic Line  Clicked on Ad   Age  Male  \\\n",
      "0                 Reactive local challenge              1  48.0   1.0   \n",
      "1           Centralized neutral neural-net              1  49.0   NaN   \n",
      "2    Centralized content-based focus group              1  48.0   1.0   \n",
      "3            Grass-roots coherent extranet              1  33.0   0.0   \n",
      "4       Persistent demand-driven interface              1  23.0   NaN   \n",
      "..                                     ...            ...   ...   ...   \n",
      "459          Extended leadingedge solution              1  40.0   NaN   \n",
      "460          Front-line bifurcated ability              1  28.0   0.0   \n",
      "461          Fundamental modular algorithm              1  30.0   NaN   \n",
      "462        Grass-roots cohesive monitoring              1  45.0   1.0   \n",
      "463           Expanded intangible solution              1  51.0   NaN   \n",
      "\n",
      "                 City                 Country  Area Income  \n",
      "0    Port Jefferybury               Australia     24593.33  \n",
      "1     West Brandonton                   Qatar     45632.51  \n",
      "2      West Katiefurt                   Egypt     51636.92  \n",
      "3                 NaN                Barbados     30976.00  \n",
      "4                 NaN                   Spain     52182.23  \n",
      "..                ...                     ...          ...  \n",
      "459       New Patrick              Montenegro     66193.81  \n",
      "460      Nicholasland                 Mayotte     63126.96  \n",
      "461         Duffystad                 Lebanon     71384.57  \n",
      "462       New Darlene  Bosnia and Herzegovina     67782.17  \n",
      "463     South Jessica                Mongolia     42415.72  \n",
      "\n",
      "[464 rows x 10 columns]\n"
     ]
    }
   ],
   "source": [
    "success_adv_df = success_adv_df.reset_index()\n",
    "success_full_df = pd.merge(success_adv_df, users_df, on='Number')\n",
    "print(success_full_df)"
   ]
  },
  {
   "cell_type": "markdown",
   "metadata": {
    "id": "AcTd7M2gOjpa"
   },
   "source": [
    "***Задача 14***\n",
    "\n",
    "К полученному датафрейму с успешными рекламными сообщениями `success_adv_df` добавьте справа информацию из датафрейма с пользователями `users_df` и сохраните в датафрейм `success_full_df`. В полученном датафрейме должны остаться только те пользователи, номера которых есть в обоих датафреймах. Для этого воспользуйтесь методом `merge` и пропишите явно верные параметры.\n",
    "\n",
    "Затем распечатайте датафрейм."
   ]
  },
  {
   "cell_type": "markdown",
   "metadata": {
    "id": "dqlixtI0Ojpa"
   },
   "source": [
    "*Важно:*\n",
    "\n",
    "Объединять датафреймы с помощью `merge` можно и по индексам, и по столбцам с разными названиями. \n",
    "Так как общие значения содержатся в столбце `Number`, но в датафрейме `users_df` данный столбец является обычным столбцом, а в `success_adv_df` является индексом, перед тем как объединять, переведите столбец `Number` в `success_adv_df` в обычный столбец.\n",
    "\n",
    "Для этого перед объединением пропишите:\n",
    "```\n",
    "success_adv_df = success_adv_df.reset_index()\n",
    "```\n",
    "\n",
    "[Подробнее о reset_index](https://pandas.pydata.org/docs/reference/api/pandas.DataFrame.reset_index.html)"
   ]
  },
  {
   "cell_type": "code",
   "execution_count": 38,
   "metadata": {
    "id": "aBgNVejCOjpa"
   },
   "outputs": [
    {
     "name": "stdout",
     "output_type": "stream",
     "text": [
      "     index  Number  Daily Time Spent on Site  Daily Internet Usage  \\\n",
      "0        0      12                       NaN                131.76   \n",
      "1        1      15                     47.64                122.02   \n",
      "2        2      17                     69.57                113.12   \n",
      "3        3      19                       NaN                143.56   \n",
      "4        4      20                     63.45                140.64   \n",
      "..     ...     ...                       ...                   ...   \n",
      "459    470     997                     69.17                123.62   \n",
      "460    471     999                     43.70                173.01   \n",
      "461    472    1000                     72.97                208.58   \n",
      "462    473    1001                     51.30                   NaN   \n",
      "463    474    1002                     51.63                120.37   \n",
      "\n",
      "                             Ad Topic Line  Clicked on Ad   Age  Male  \\\n",
      "0                 Reactive local challenge              1  48.0   1.0   \n",
      "1           Centralized neutral neural-net              1  49.0   NaN   \n",
      "2    Centralized content-based focus group              1  48.0   1.0   \n",
      "3            Grass-roots coherent extranet              1  33.0   0.0   \n",
      "4       Persistent demand-driven interface              1  23.0   NaN   \n",
      "..                                     ...            ...   ...   ...   \n",
      "459          Extended leadingedge solution              1  40.0   NaN   \n",
      "460          Front-line bifurcated ability              1  28.0   0.0   \n",
      "461          Fundamental modular algorithm              1  30.0   NaN   \n",
      "462        Grass-roots cohesive monitoring              1  45.0   1.0   \n",
      "463           Expanded intangible solution              1  51.0   NaN   \n",
      "\n",
      "                 City                 Country  Area Income  \n",
      "0    Port Jefferybury               Australia     24593.33  \n",
      "1     West Brandonton                   Qatar     45632.51  \n",
      "2      West Katiefurt                   Egypt     51636.92  \n",
      "3                 NaN                Barbados     30976.00  \n",
      "4                 NaN                   Spain     52182.23  \n",
      "..                ...                     ...          ...  \n",
      "459       New Patrick              Montenegro     66193.81  \n",
      "460      Nicholasland                 Mayotte     63126.96  \n",
      "461         Duffystad                 Lebanon     71384.57  \n",
      "462       New Darlene  Bosnia and Herzegovina     67782.17  \n",
      "463     South Jessica                Mongolia     42415.72  \n",
      "\n",
      "[464 rows x 11 columns]\n"
     ]
    }
   ],
   "source": [
    "success_adv_df = success_adv_df.reset_index()\n",
    "success_full_df = pd.merge(success_adv_df, users_df, on='Number')\n",
    "print(success_full_df)"
   ]
  },
  {
   "cell_type": "markdown",
   "metadata": {
    "id": "3ELhJzr7Ojpb"
   },
   "source": [
    "***Задача 15***\n",
    "\n",
    "Для объединённого датафрейма с пользователями, которые кликнули на рекламное сообщение `success_full_df`, отобразите сводную таблицу со статистиками для строковых колонок (`Ad Topic Line`, `City`, `Country`).\n"
   ]
  },
  {
   "cell_type": "code",
   "execution_count": 39,
   "metadata": {},
   "outputs": [
    {
     "data": {
      "text/html": [
       "<div>\n",
       "<style scoped>\n",
       "    .dataframe tbody tr th:only-of-type {\n",
       "        vertical-align: middle;\n",
       "    }\n",
       "\n",
       "    .dataframe tbody tr th {\n",
       "        vertical-align: top;\n",
       "    }\n",
       "\n",
       "    .dataframe thead th {\n",
       "        text-align: right;\n",
       "    }\n",
       "</style>\n",
       "<table border=\"1\" class=\"dataframe\">\n",
       "  <thead>\n",
       "    <tr style=\"text-align: right;\">\n",
       "      <th></th>\n",
       "      <th></th>\n",
       "      <th></th>\n",
       "      <th>Clicked on Ad</th>\n",
       "    </tr>\n",
       "    <tr>\n",
       "      <th>Ad Topic Line</th>\n",
       "      <th>City</th>\n",
       "      <th>Country</th>\n",
       "      <th></th>\n",
       "    </tr>\n",
       "  </thead>\n",
       "  <tbody>\n",
       "    <tr>\n",
       "      <th>Adaptive context-sensitive application</th>\n",
       "      <th>Joneston</th>\n",
       "      <th>China</th>\n",
       "      <td>1</td>\n",
       "    </tr>\n",
       "    <tr>\n",
       "      <th>Adaptive contextually-based methodology</th>\n",
       "      <th>Port Paultown</th>\n",
       "      <th>Austria</th>\n",
       "      <td>1</td>\n",
       "    </tr>\n",
       "    <tr>\n",
       "      <th>Adaptive demand-driven knowledgebase</th>\n",
       "      <th>Colebury</th>\n",
       "      <th>Tuvalu</th>\n",
       "      <td>1</td>\n",
       "    </tr>\n",
       "    <tr>\n",
       "      <th>Adaptive uniform capability</th>\n",
       "      <th>East Georgeside</th>\n",
       "      <th>Bahamas</th>\n",
       "      <td>1</td>\n",
       "    </tr>\n",
       "    <tr>\n",
       "      <th>Advanced 24/7 productivity</th>\n",
       "      <th>Millertown</th>\n",
       "      <th>Russian Federation</th>\n",
       "      <td>1</td>\n",
       "    </tr>\n",
       "    <tr>\n",
       "      <th>...</th>\n",
       "      <th>...</th>\n",
       "      <th>...</th>\n",
       "      <td>...</td>\n",
       "    </tr>\n",
       "    <tr>\n",
       "      <th>Vision-oriented optimizing middleware</th>\n",
       "      <th>Jessicahaven</th>\n",
       "      <th>Cambodia</th>\n",
       "      <td>1</td>\n",
       "    </tr>\n",
       "    <tr>\n",
       "      <th>Vision-oriented system-worthy forecast</th>\n",
       "      <th>Johnsontown</th>\n",
       "      <th>Brunei Darussalam</th>\n",
       "      <td>1</td>\n",
       "    </tr>\n",
       "    <tr>\n",
       "      <th>Visionary asymmetric encryption</th>\n",
       "      <th>South Lauratown</th>\n",
       "      <th>Japan</th>\n",
       "      <td>1</td>\n",
       "    </tr>\n",
       "    <tr>\n",
       "      <th>Visionary maximized process improvement</th>\n",
       "      <th>Hamiltonfort</th>\n",
       "      <th>Trinidad and Tobago</th>\n",
       "      <td>1</td>\n",
       "    </tr>\n",
       "    <tr>\n",
       "      <th>Total</th>\n",
       "      <th></th>\n",
       "      <th></th>\n",
       "      <td>380</td>\n",
       "    </tr>\n",
       "  </tbody>\n",
       "</table>\n",
       "<p>381 rows × 1 columns</p>\n",
       "</div>"
      ],
      "text/plain": [
       "                                                                             Clicked on Ad\n",
       "Ad Topic Line                           City            Country                           \n",
       "Adaptive context-sensitive application  Joneston        China                            1\n",
       "Adaptive contextually-based methodology Port Paultown   Austria                          1\n",
       "Adaptive demand-driven knowledgebase    Colebury        Tuvalu                           1\n",
       "Adaptive uniform capability             East Georgeside Bahamas                          1\n",
       "Advanced 24/7 productivity              Millertown      Russian Federation               1\n",
       "...                                                                                    ...\n",
       "Vision-oriented optimizing middleware   Jessicahaven    Cambodia                         1\n",
       "Vision-oriented system-worthy forecast  Johnsontown     Brunei Darussalam                1\n",
       "Visionary asymmetric encryption         South Lauratown Japan                            1\n",
       "Visionary maximized process improvement Hamiltonfort    Trinidad and Tobago              1\n",
       "Total                                                                                  380\n",
       "\n",
       "[381 rows x 1 columns]"
      ]
     },
     "execution_count": 39,
     "metadata": {},
     "output_type": "execute_result"
    }
   ],
   "source": [
    "pd.pivot_table(success_full_df,  \n",
    "                index=['Ad Topic Line', 'City', 'Country'],\n",
    "                values=['Clicked on Ad'],  \n",
    "                aggfunc='count',  \n",
    "                margins=True,  \n",
    "                margins_name='Total')"
   ]
  },
  {
   "cell_type": "markdown",
   "metadata": {
    "id": "uk1V6_IDOjpb"
   },
   "source": [
    "***Задача 16***\n",
    "\n",
    "Для объединённого датафрейма с пользователями, которые кликнули на рекламное сообщение `success_full_df`, выведите страну и количество вхождений этой страны в датафрейм.\n"
   ]
  },
  {
   "cell_type": "code",
   "execution_count": 40,
   "metadata": {
    "id": "jRf8i7z0Ojpb",
    "scrolled": true
   },
   "outputs": [
    {
     "data": {
      "text/html": [
       "<div>\n",
       "<style scoped>\n",
       "    .dataframe tbody tr th:only-of-type {\n",
       "        vertical-align: middle;\n",
       "    }\n",
       "\n",
       "    .dataframe tbody tr th {\n",
       "        vertical-align: top;\n",
       "    }\n",
       "\n",
       "    .dataframe thead th {\n",
       "        text-align: right;\n",
       "    }\n",
       "</style>\n",
       "<table border=\"1\" class=\"dataframe\">\n",
       "  <thead>\n",
       "    <tr style=\"text-align: right;\">\n",
       "      <th></th>\n",
       "      <th>country</th>\n",
       "      <th>count</th>\n",
       "    </tr>\n",
       "  </thead>\n",
       "  <tbody>\n",
       "    <tr>\n",
       "      <th>0</th>\n",
       "      <td>Ethiopia</td>\n",
       "      <td>7</td>\n",
       "    </tr>\n",
       "    <tr>\n",
       "      <th>1</th>\n",
       "      <td>Australia</td>\n",
       "      <td>6</td>\n",
       "    </tr>\n",
       "    <tr>\n",
       "      <th>2</th>\n",
       "      <td>Turkey</td>\n",
       "      <td>6</td>\n",
       "    </tr>\n",
       "    <tr>\n",
       "      <th>3</th>\n",
       "      <td>Liberia</td>\n",
       "      <td>6</td>\n",
       "    </tr>\n",
       "    <tr>\n",
       "      <th>4</th>\n",
       "      <td>Senegal</td>\n",
       "      <td>5</td>\n",
       "    </tr>\n",
       "    <tr>\n",
       "      <th>...</th>\n",
       "      <td>...</td>\n",
       "      <td>...</td>\n",
       "    </tr>\n",
       "    <tr>\n",
       "      <th>198</th>\n",
       "      <td>Ukraine</td>\n",
       "      <td>1</td>\n",
       "    </tr>\n",
       "    <tr>\n",
       "      <th>199</th>\n",
       "      <td>United Kingdom</td>\n",
       "      <td>1</td>\n",
       "    </tr>\n",
       "    <tr>\n",
       "      <th>200</th>\n",
       "      <td>Montserrat</td>\n",
       "      <td>1</td>\n",
       "    </tr>\n",
       "    <tr>\n",
       "      <th>201</th>\n",
       "      <td>Timor-Leste</td>\n",
       "      <td>1</td>\n",
       "    </tr>\n",
       "    <tr>\n",
       "      <th>202</th>\n",
       "      <td>Comoros</td>\n",
       "      <td>1</td>\n",
       "    </tr>\n",
       "  </tbody>\n",
       "</table>\n",
       "<p>203 rows × 2 columns</p>\n",
       "</div>"
      ],
      "text/plain": [
       "            country  count\n",
       "0          Ethiopia      7\n",
       "1         Australia      6\n",
       "2            Turkey      6\n",
       "3           Liberia      6\n",
       "4           Senegal      5\n",
       "..              ...    ...\n",
       "198         Ukraine      1\n",
       "199  United Kingdom      1\n",
       "200      Montserrat      1\n",
       "201     Timor-Leste      1\n",
       "202         Comoros      1\n",
       "\n",
       "[203 rows x 2 columns]"
      ]
     },
     "execution_count": 40,
     "metadata": {},
     "output_type": "execute_result"
    }
   ],
   "source": [
    "success_full_df['Country'].value_counts().reset_index().rename(columns={'index':'country', 'Country':'count'})"
   ]
  },
  {
   "cell_type": "markdown",
   "metadata": {
    "id": "k14sXVXSOjpc"
   },
   "source": [
    "***Задача 17***\n",
    "\n",
    "Для объединённого датафрейма с пользователями, которые кликнули на рекламное сообщение `success_full_df`, выведите строки с данными пользователей из страны, название которой встречается чаще остальных.\n"
   ]
  },
  {
   "cell_type": "code",
   "execution_count": 41,
   "metadata": {
    "id": "RsWmGl0COjpc",
    "scrolled": true
   },
   "outputs": [
    {
     "name": "stdout",
     "output_type": "stream",
     "text": [
      "     index  Number  Daily Time Spent on Site  Daily Internet Usage  \\\n",
      "245    249     525                     46.61                136.18   \n",
      "246    250     526                     63.26                120.46   \n",
      "278    283     606                     52.13                118.27   \n",
      "297    303     650                       NaN                137.97   \n",
      "299    305     652                     46.43                137.20   \n",
      "417    426     919                     41.86                128.62   \n",
      "423    433     930                       NaN                   NaN   \n",
      "\n",
      "                                       Ad Topic Line  Clicked on Ad   Age  \\\n",
      "245              Progressive intermediate throughput              1  42.0   \n",
      "246                    Customizable holistic archive              1  29.0   \n",
      "278                 Open-source even-keeled database              1  50.0   \n",
      "297      Seamless bandwidth-monitored knowledge user              1  28.0   \n",
      "299  Reverse-engineered background Graphic Interface              1  28.0   \n",
      "417                      Open-source stable paradigm              1  39.0   \n",
      "423           Front-line fresh-thinking installation              1  45.0   \n",
      "\n",
      "     Male               City   Country  Area Income  \n",
      "245   0.0      Catherinefort  Ethiopia     65856.74  \n",
      "246   1.0         East Donna  Ethiopia     54787.37  \n",
      "278   1.0  West Raymondmouth  Ethiopia     40926.93  \n",
      "297   1.0          Markhaven  Ethiopia     39723.97  \n",
      "299   1.0          Brianland  Ethiopia     53922.43  \n",
      "417   1.0        Hawkinsbury  Ethiopia     53041.77  \n",
      "423   0.0     Huffmanchester  Ethiopia     43241.88  \n"
     ]
    }
   ],
   "source": [
    "most_common_country = success_full_df['Country'].value_counts().index[0]\n",
    "results = success_full_df[success_full_df['Country'] == most_common_country]\n",
    "print(results)"
   ]
  },
  {
   "cell_type": "markdown",
   "metadata": {
    "id": "cG08bAqrOjpc"
   },
   "source": [
    "***Задача 18***\n",
    "\n",
    "Для объединённого датафрейма с пользователями, которые кликнули на рекламное сообщение `success_full_df`, выведите строки с данными пользователей из страны, название которой встречается чаще остальных, они проводят в интернете в среднем больше 120 минут и их возраст меньше 30 лет. \n",
    "Cохраните получившиеся строки в новый датафрейм `filtered_df`.\n"
   ]
  },
  {
   "cell_type": "code",
   "execution_count": 44,
   "metadata": {
    "id": "p-meXdGOOjpc",
    "scrolled": true
   },
   "outputs": [
    {
     "name": "stdout",
     "output_type": "stream",
     "text": [
      "     index  Number  Daily Time Spent on Site  Daily Internet Usage  \\\n",
      "246    250     526                     63.26                120.46   \n",
      "297    303     650                       NaN                137.97   \n",
      "299    305     652                     46.43                137.20   \n",
      "\n",
      "                                       Ad Topic Line  Clicked on Ad   Age  \\\n",
      "246                    Customizable holistic archive              1  29.0   \n",
      "297      Seamless bandwidth-monitored knowledge user              1  28.0   \n",
      "299  Reverse-engineered background Graphic Interface              1  28.0   \n",
      "\n",
      "     Male        City   Country  Area Income  \n",
      "246   1.0  East Donna  Ethiopia     54787.37  \n",
      "297   1.0   Markhaven  Ethiopia     39723.97  \n",
      "299   1.0   Brianland  Ethiopia     53922.43  \n"
     ]
    }
   ],
   "source": [
    "most_common_country = success_full_df['Country'].value_counts().index[0]\n",
    "filtered_df = success_full_df[(success_full_df['Country'] == most_common_country) &\n",
    "                              (success_full_df['Daily Internet Usage'] > 120) &   \n",
    "                              (success_full_df['Age'] < 30)]  \n",
    "\n",
    "filtered_df = filtered_df\n",
    "print(filtered_df)"
   ]
  },
  {
   "cell_type": "markdown",
   "metadata": {
    "id": "HHczs4f6Ojpc"
   },
   "source": [
    "***Задача 19***\n",
    "\n",
    "Для получившегося датафрейма `filtered_df` выведите строки с данными пользователей, для которых либо не указано среднее время, проведённое на сайте, либо указанное время больше 55 минут. Cохраните получившиеся строки в новый датафрейм `filtered_df2`.\n"
   ]
  },
  {
   "cell_type": "code",
   "execution_count": 46,
   "metadata": {
    "id": "jeWcOmrXOjpd"
   },
   "outputs": [
    {
     "name": "stdout",
     "output_type": "stream",
     "text": [
      "     index  Number  Daily Time Spent on Site  Daily Internet Usage  \\\n",
      "246    250     526                     63.26                120.46   \n",
      "297    303     650                       NaN                137.97   \n",
      "299    305     652                     46.43                137.20   \n",
      "\n",
      "                                       Ad Topic Line  Clicked on Ad   Age  \\\n",
      "246                    Customizable holistic archive              1  29.0   \n",
      "297      Seamless bandwidth-monitored knowledge user              1  28.0   \n",
      "299  Reverse-engineered background Graphic Interface              1  28.0   \n",
      "\n",
      "     Male        City   Country  Area Income  \n",
      "246   1.0  East Donna  Ethiopia     54787.37  \n",
      "297   1.0   Markhaven  Ethiopia     39723.97  \n",
      "299   1.0   Brianland  Ethiopia     53922.43  \n"
     ]
    }
   ],
   "source": [
    "filtered_df2 = filtered_df[(filtered_df['Daily Internet Usage'].isna()) |  \n",
    "                           (filtered_df['Daily Internet Usage'] > 55)]\n",
    "   \n",
    "filtered_df2 = filtered_df2\n",
    "print(filtered_df2)  "
   ]
  },
  {
   "cell_type": "markdown",
   "metadata": {
    "id": "UZ63-YrPOjpd"
   },
   "source": [
    "**Дополнительные задачи**"
   ]
  },
  {
   "cell_type": "markdown",
   "metadata": {
    "id": "MIAm3M_SOjpd"
   },
   "source": [
    "***Задача 20***\n",
    "\n",
    "Для датафрейма `adv123_df` выведите строки с данными, заголовок рекламного сообщения в которых включает слово `model`.\n",
    "\n",
    "Для этого вам понадобится метод [`contains`](https://pandas.pydata.org/docs/reference/api/pandas.Series.str.contains.html).\n",
    "\n",
    "Cохраните получившиеся строки в новый датафрейм `model_df`.\n"
   ]
  },
  {
   "cell_type": "code",
   "execution_count": 48,
   "metadata": {
    "id": "Bdzh725COjpd"
   },
   "outputs": [
    {
     "name": "stdout",
     "output_type": "stream",
     "text": [
      "        Daily Time Spent on Site  Daily Internet Usage  \\\n",
      "Number                                                   \n",
      "62                         44.98                129.31   \n",
      "119                        69.00                   NaN   \n",
      "202                        78.57                   NaN   \n",
      "211                        76.90                212.67   \n",
      "314                          NaN                161.16   \n",
      "350                        65.77                   NaN   \n",
      "501                        81.10                216.49   \n",
      "538                        91.43                209.91   \n",
      "629                        78.17                192.27   \n",
      "712                        81.90                225.47   \n",
      "823                        81.98                212.88   \n",
      "995                        35.79                165.62   \n",
      "\n",
      "                              Ad Topic Line  Clicked on Ad  \n",
      "Number                                                      \n",
      "62                   Organized global model              1  \n",
      "119                 Virtual composite model              0  \n",
      "202           Exclusive client-driven model              0  \n",
      "211           Synchronized multimedia model              0  \n",
      "314              Extended interactive model              1  \n",
      "350     Function-based fault-tolerant model              0  \n",
      "501                Front-line dynamic model              0  \n",
      "538                Organic motivating model              0  \n",
      "629                  Automated mobile model              0  \n",
      "712     Multi-channeled 3rdgeneration model              0  \n",
      "823                Up-sized maximized model              0  \n",
      "995          Enterprise-wide tangible model              1  \n"
     ]
    }
   ],
   "source": [
    "model_df = adv123_df[adv123_df['Ad Topic Line'].str.contains('model')]\n",
    "model_df = model_df\n",
    "print(model_df)    "
   ]
  },
  {
   "cell_type": "markdown",
   "metadata": {
    "id": "u198e6noOjpd"
   },
   "source": [
    "***Задача 21***\n",
    "\n",
    "Для получившегося датафрейма `model_df` выведите строки с данными пользователей, которые проводят на сайте больше среднего времени по всем пользователям в данном датафрейме. Cохраните получившиеся строки в новый датафрейм `model_popular_df`.\n"
   ]
  },
  {
   "cell_type": "code",
   "execution_count": 49,
   "metadata": {
    "id": "POUDDdXqOjpd"
   },
   "outputs": [
    {
     "name": "stdout",
     "output_type": "stream",
     "text": [
      "        Daily Time Spent on Site  Daily Internet Usage  \\\n",
      "Number                                                   \n",
      "211                        76.90                212.67   \n",
      "501                        81.10                216.49   \n",
      "538                        91.43                209.91   \n",
      "629                        78.17                192.27   \n",
      "712                        81.90                225.47   \n",
      "823                        81.98                212.88   \n",
      "\n",
      "                              Ad Topic Line  Clicked on Ad  \n",
      "Number                                                      \n",
      "211           Synchronized multimedia model              0  \n",
      "501                Front-line dynamic model              0  \n",
      "538                Organic motivating model              0  \n",
      "629                  Automated mobile model              0  \n",
      "712     Multi-channeled 3rdgeneration model              0  \n",
      "823                Up-sized maximized model              0  \n"
     ]
    }
   ],
   "source": [
    "mean_usage = model_df['Daily Internet Usage'].mean()\n",
    "model_popular_df = model_df[model_df['Daily Internet Usage'] > mean_usage]\n",
    "model_popular_df = model_popular_df\n",
    "print(model_popular_df)"
   ]
  },
  {
   "cell_type": "markdown",
   "metadata": {
    "ExecuteTime": {
     "end_time": "2021-10-24T13:24:06.355148Z",
     "start_time": "2021-10-24T13:24:06.350890Z"
    },
    "id": "7wLZJHOzOjpe"
   },
   "source": [
    "***Задача 22***\n",
    "\n",
    "Для объединённого датафрейма `model_popular_df` выведите строки с данными пользователей, номера которых равны 501, 712 и 823. \n",
    "\n",
    "Для этого вам понадобится метод [`isin`](https://pandas.pydata.org/docs/reference/api/pandas.DataFrame.isin.html).\n",
    "\n",
    "*Подсказка:* Не забудьте, что номера пользователей находятся не в обычной колонке, а в колонке, являющейся индексом, поэтому вам необходимо получить значения индекса, а не обычной колонки."
   ]
  },
  {
   "cell_type": "code",
   "execution_count": 51,
   "metadata": {},
   "outputs": [
    {
     "name": "stdout",
     "output_type": "stream",
     "text": [
      "        Daily Time Spent on Site  Daily Internet Usage  \\\n",
      "Number                                                   \n",
      "501                        81.10                216.49   \n",
      "712                        81.90                225.47   \n",
      "823                        81.98                212.88   \n",
      "\n",
      "                              Ad Topic Line  Clicked on Ad  \n",
      "Number                                                      \n",
      "501                Front-line dynamic model              0  \n",
      "712     Multi-channeled 3rdgeneration model              0  \n",
      "823                Up-sized maximized model              0  \n"
     ]
    }
   ],
   "source": [
    "user_ids = [501, 712, 823]\n",
    "results = model_popular_df.loc[model_popular_df.index.isin(user_ids)]\n",
    "print(results)"
   ]
  },
  {
   "cell_type": "code",
   "execution_count": null,
   "metadata": {},
   "outputs": [],
   "source": []
  }
 ],
 "metadata": {
  "colab": {
   "collapsed_sections": [],
   "name": "12.6_Домашнее_задание.ipynb",
   "provenance": []
  },
  "kernelspec": {
   "display_name": "Python 3 (ipykernel)",
   "language": "python",
   "name": "python3"
  },
  "language_info": {
   "codemirror_mode": {
    "name": "ipython",
    "version": 3
   },
   "file_extension": ".py",
   "mimetype": "text/x-python",
   "name": "python",
   "nbconvert_exporter": "python",
   "pygments_lexer": "ipython3",
   "version": "3.12.4"
  },
  "toc": {
   "base_numbering": 1,
   "nav_menu": {},
   "number_sections": true,
   "sideBar": true,
   "skip_h1_title": false,
   "title_cell": "Table of Contents",
   "title_sidebar": "Contents",
   "toc_cell": false,
   "toc_position": {},
   "toc_section_display": true,
   "toc_window_display": false
  }
 },
 "nbformat": 4,
 "nbformat_minor": 4
}
