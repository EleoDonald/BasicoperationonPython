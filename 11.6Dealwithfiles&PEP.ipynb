{
 "cells": [
  {
   "cell_type": "markdown",
   "id": "194ee24b-50d1-4175-b37e-2e3f7e762269",
   "metadata": {
    "id": "194ee24b-50d1-4175-b37e-2e3f7e762269"
   },
   "source": [
    "# Чтение файлов в Python и командной строке. Практическая работа\n",
    "\n",
    "### Цели практической работы\n",
    "1. Научиться считывать информацию из файлов и совершать над ней операции с помощью кода на Python и командной строки.\n",
    "2. Закрепить навыки стыковки команд в конвейеры и установки внешних пакетов с помощью пакетного менеджера pip.\n",
    "\n",
    "### Что входит в практическую работу\n",
    "1. Работа с файлами в командной строке.\n",
    "2. Работа с файлами в Python 1.\n",
    "3. Работа с файлами в Python 2.\n",
    "4. Импортирование модулей.\n",
    "5. Установка внешних модулей через pip.\n",
    "6. Бонусное задание.\n",
    "\n",
    "### Что оценивается\n",
    "* Выполнены пять обязательных заданий, в каждом из них:\n",
    " * программа выполняет все описанные в задании действия;\n",
    " * результаты вычислений и применённых операций корректны;\n",
    " * стилизация кода соответствует рекомендациям [PEP 8](https://pythonworld.ru/osnovy/pep-8-rukovodstvo-po-napisaniyu-koda-na-python.html).\n",
    "\n",
    "\n",
    "### Как отправить работу на проверку\n",
    "Все задания собраны в один Jupyter Notebook. Выполните их, сохраните изменения при помощи опции Save and Checkpoint из вкладки меню File или кнопки Save and Checkpoint на панели инструментов. Отправьте итоговый файл Jupyter Notebook в формате IPYNB или ссылку на него через форму для сдачи практической работы.\n",
    "\n",
    "---"
   ]
  },
  {
   "cell_type": "markdown",
   "id": "a44f6df4",
   "metadata": {
    "id": "a44f6df4"
   },
   "source": [
    "## Задание 1. Работа с файлами в командной строке\n",
    "\n",
    "Ранее вы считали количество всех слов в рассказе А. П. Чехова «Анна на шее». Теперь необходимо определить, сколько раз каждое слово встречается в тексте.\n",
    "\n",
    "Вы уже знаете команды sort и uniq, умеете с их помощью считать количество уникальных строк в построчном файле. В результате у вас должен был получиться такой конвейер команд: `cat anna_words.txt | sort | uniq | wc -l`.\n",
    "\n",
    "Команда cat перенаправляет слова из файла в команду sort, которая сортирует слова и передаёт упорядоченный список в команду uniq. Последняя удаляет дубликаты и направляет список уникальных слов в команду wc −l, которая их считает.\n",
    "\n",
    "### Что нужно сделать\n",
    "\n",
    "Посчитайте количество уникальных слов и определите частоту встречаемости каждого слова. Информацию в виде `частота слово` сохраните в текстовый файл. Для этого:\n",
    "1. Измените конвейер команд так, чтобы он выводил слова и их частоту встречаемости на экран.\n",
    "2. Перенаправьте вывод конвейера в текстовый файл `words_freq.txt`.\n",
    "\n",
    "Если всё сделаете правильно, то получится текстовый файл `words_freq.txt`, в котором будут слова и их частота в виде:\n",
    "\n",
    "```\n",
    "...\n",
    "   1 по-прежнему\n",
    "   2 по-французски\n",
    "  40 аня\n",
    "   6 бал\n",
    "   1 бог\n",
    "   2 ваш\n",
    "   2 вид\n",
    "...\n",
    "```\n",
    "\n",
    "3. Скопируйте конвейер команд в ячейку, которая расположена непосредственно под этой.\n",
    "\n",
    "### Подсказки\n",
    "1. Ознакомьтесь с документацией команды uniq, обратите внимание на её ключ `-с`. Официальную документацию можно почитать прямо в командной строке: для этого выполните команду `man uniq`. Команда `man` (от англ. manual) выводит справку для команды, которая передаётся в man как аргумент. Если читать текст в терминале непривычно, то можете поискать информацию в интернете.\n",
    "\n",
    "2. Перенаправить вывод команды в bash можно с помощью символа `>`. О том, как это сделать, читайте в интернете. Например, в статье [**«Перенаправление ввода вывода Linux»**](https://losst.ru/perenapravlenie-vvoda-vyvoda-linux). "
   ]
  },
  {
   "cell_type": "markdown",
   "id": "ac416392",
   "metadata": {
    "id": "ac416392"
   },
   "source": [
    "### Вставьте конвейер команд, который у вас получился"
   ]
  },
  {
   "cell_type": "code",
   "execution_count": 1,
   "id": "d28e007d",
   "metadata": {},
   "outputs": [
    {
     "data": {
      "text/plain": [
       "'C:\\\\Users\\\\user\\\\Downloads'"
      ]
     },
     "execution_count": 1,
     "metadata": {},
     "output_type": "execute_result"
    }
   ],
   "source": [
    "%pwd"
   ]
  },
  {
   "cell_type": "code",
   "execution_count": 2,
   "id": "02bc9adf",
   "metadata": {},
   "outputs": [
    {
     "name": "stdout",
     "output_type": "stream",
     "text": [
      "C:\\Users\\user\n"
     ]
    }
   ],
   "source": [
    "%cd"
   ]
  },
  {
   "cell_type": "code",
   "execution_count": 3,
   "id": "54a4c774",
   "metadata": {},
   "outputs": [
    {
     "name": "stdout",
     "output_type": "stream",
     "text": [
      "C:\\Users\\user\\Module_cmd\n"
     ]
    }
   ],
   "source": [
    "%cd Module_cmd"
   ]
  },
  {
   "cell_type": "code",
   "execution_count": 4,
   "id": "8d5eebb1",
   "metadata": {},
   "outputs": [
    {
     "name": "stdout",
     "output_type": "stream",
     "text": [
      " Том в устройстве C имеет метку Windows 10\n",
      " Серийный номер тома: F610-113B\n",
      "\n",
      " Содержимое папки C:\\Users\\user\\Module_cmd\n",
      "\n",
      "23.05.2023  19:44    <DIR>          .\n",
      "23.05.2023  19:44    <DIR>          ..\n",
      "23.05.2023  19:44    <DIR>          .ipynb_checkpoints\n",
      "14.05.2023  23:00            33 530 anna_words.txt\n",
      "23.05.2023  19:46            28 495 words_freq.txt\n",
      "               2 файлов         62 025 байт\n",
      "               3 папок  39 573 417 984 байт свободно\n"
     ]
    }
   ],
   "source": [
    "%ls"
   ]
  },
  {
   "cell_type": "code",
   "execution_count": 5,
   "id": "918aaec5",
   "metadata": {},
   "outputs": [
    {
     "data": {
      "text/plain": [
       "255"
      ]
     },
     "execution_count": 5,
     "metadata": {},
     "output_type": "execute_result"
    }
   ],
   "source": [
    "%matplotlib inline  \n",
    "import os\n",
    "\n",
    "os.system('cat anna_words.txt | sort | uniq -c | sort -nr > words_freq.txt')"
   ]
  },
  {
   "cell_type": "markdown",
   "id": "3952c1a6",
   "metadata": {
    "id": "3952c1a6"
   },
   "source": [
    "---\n",
    "\n",
    "## Задание 2. Работа с файлами в Python 1\n",
    "\n",
    "### Что нужно сделать\n",
    "В рассказе А. П. Чехова «Анна на шее» найдите десять слов, которые встречаются чаще всего. \n",
    "\n",
    "1. Напишите код на Python, который читает файл `word_freq.txt` по строкам, преобразует каждую из них в кортеж `(частота, слово)` и складывает полученные кортежи в список. \n",
    "2. Отсортируйте список по частотам, выведите на экран десять самых популярных слов и их частоты.\n",
    "\n",
    "### Подсказки\n",
    "1. Обратите внимание, что строки в файле содержат «лишние» символы: пробелы в начале и символ перевода строки в конце. Работать будет удобнее, если предварительно удалить их. Сделать это можно с помощью метода  `strip`. Ознакомьтесь с ним подробнее в [**официальной документации**](https://docs.python.org/3/library/stdtypes.html?highlight=strip#str.strip).\n",
    "\n",
    "2. Сейчас частота и слово — это одна строка, в которой они разделены пробелом. Их можно разделить с помощью метода [**`split`**](https://docs.python.org/3/library/stdtypes.html?highlight=split#str.split).\n",
    "\n",
    "3. Для сортировки в Python есть функция `sorted`. Она принимает на вход итерируемый объект, сравнивает его элементы между собой и возвращает итерируемый объект, который отсортирован. По умолчанию функция размещает элементы в порядке возрастания. Например, `sorted([2, 4, 1, 0])` вернёт `[0, 1, 2, 4]`. Подробнее про работу функции можно почитать в [**официальной документации**](https://docs.python.org/3/library/functions.html?highlight=sorted#sorted)"
   ]
  },
  {
   "cell_type": "code",
   "execution_count": 6,
   "id": "c9752104",
   "metadata": {},
   "outputs": [
    {
     "name": "stdout",
     "output_type": "stream",
     "text": [
      "The most frequent words are:\n",
      "аня: 40\n",
      "свой: 28\n",
      "говорить: 19\n",
      "это: 17\n",
      "сказать: 17\n",
      "модест: 17\n",
      "который: 17\n",
      "алексеич: 17\n",
      "человек: 16\n",
      "рука: 16\n",
      "отец: 16\n",
      "сиятельство: 15\n",
      "весь: 15\n",
      "муж: 14\n",
      "деньги: 14\n",
      "мочь: 13\n",
      "очень: 11\n",
      "мать: 11\n",
      "глаз: 11\n",
      "выпивать: 11\n",
      "петр: 10\n",
      "леонтьич: 10\n",
      "дама: 10\n",
      "артынов: 10\n",
      "видеть: 9\n",
      "офицер: 8\n",
      "музыка: 8\n",
      "молодой: 8\n",
      "казаться: 8\n",
      "иметь: 8\n",
      "время: 8\n",
      "самый: 7\n",
      "мальчик: 7\n",
      "лицо: 7\n",
      "громадный: 7\n",
      "вечер: 7\n",
      "брать: 7\n",
      "бояться: 7\n",
      "шея: 6\n",
      "ходить: 6\n",
      "фрак: 6\n",
      "улыбаться: 6\n",
      "сила: 6\n",
      "сегодня: 6\n",
      "свет: 6\n",
      "рубль: 6\n",
      "платье: 6\n",
      "папочка: 6\n",
      "каждый: 6\n",
      "идти: 6\n",
      "жена: 6\n",
      "должный: 6\n",
      "день: 6\n",
      "давать: 6\n",
      "глядеть: 6\n",
      "бал: 6\n",
      "анна: 6\n",
      "стоять: 5\n",
      "старый: 5\n",
      "приходить: 5\n",
      "получать: 5\n",
      "поезд: 5\n",
      "плечо: 5\n",
      "место: 5\n",
      "из-за: 5\n",
      "играть: 5\n",
      "думать: 5\n",
      "долг: 5\n",
      "гимназия: 5\n",
      "выходить: 5\n",
      "большой: 5\n",
      "базар: 5\n",
      "что-то: 4\n",
      "что-нибудь: 4\n",
      "чиновник: 4\n",
      "хотеть: 4\n",
      "хороший: 4\n",
      "уходить: 4\n",
      "ус: 4\n",
      "танцевать: 4\n",
      "сто: 4\n",
      "степень: 4\n",
      "слеза: 4\n",
      "скоро: 4\n",
      "садиться: 4\n",
      "просить: 4\n",
      "понимать: 4\n",
      "помогать: 4\n",
      "полный: 4\n",
      "первый: 4\n",
      "оставаться: 4\n",
      "ничто: 4\n",
      "манера: 4\n",
      "красота: 4\n",
      "казенный: 4\n",
      "избушка: 4\n",
      "знакомый: 4\n",
      "зала: 4\n",
      "жизнь: 4\n",
      "дрожать: 4\n"
     ]
    }
   ],
   "source": [
    "with open('words_freq.txt', 'r', encoding='UTF-8') as f:\n",
    "    lines = f.readlines()\n",
    "    char_counts =[]\n",
    "\n",
    "freq_words_tuples = []\n",
    "for line in lines:\n",
    "    parts = line.strip().split()\n",
    "    if len(parts) > 0:\n",
    "        freq, word = parts\n",
    "        freq_words_tuples.append((int(freq), word))\n",
    "\n",
    "sorted_freq_word_tuples = sorted(freq_words_tuples, key=lambda x: x[0], reverse=True)\n",
    "     \n",
    "print('The most frequent words are:')\n",
    "for i in range(min(len(sorted_freq_word_tuples), 100)):\n",
    "    print(f'{sorted_freq_word_tuples[i][1]}: {sorted_freq_word_tuples[i][0]}')"
   ]
  },
  {
   "cell_type": "markdown",
   "id": "8639569c",
   "metadata": {
    "id": "8639569c"
   },
   "source": [
    "---\n",
    "\n",
    "## Задание 3. Работа с файлами в Python 2\n",
    "\n",
    "### Что нужно сделать\n",
    "Найдите букву, с которой чаще всего начинаются слова в рассказе А. П. Чехова «Анна на шее». \n",
    "1. Используйте файл с частотами слов `words_freq.txt`. \n",
    "2. Напишите код в Python, который выводит на экран самую популярную первую букву и количество слов на неё.\n",
    "\n",
    "\n",
    "### Подсказки\n",
    "Скорее всего, вы будете искать в словаре ключ с максимальным значением. Чтобы упростить работу, отсортируйте словарь. Сортировать словарь по значениям сложнее, чем список объектов, которые можно сравнивать непосредственно. Обратите внимание на параметр key функции [**sorted**](https://docs.python.org/3/library/functions.html?highlight=sorted#sorted)."
   ]
  },
  {
   "cell_type": "code",
   "execution_count": 7,
   "id": "8951825d",
   "metadata": {},
   "outputs": [
    {
     "name": "stdout",
     "output_type": "stream",
     "text": [
      "The most popular first letter is \"1\" with 828 words.\n"
     ]
    }
   ],
   "source": [
    "import re\n",
    "\n",
    "def read_word_freq_file(file_path): \n",
    "    with open(file_path, 'r', encoding='UTF-8') as f:\n",
    "        data = f.read()  \n",
    "        \n",
    "    words = re.findall(r'\\b\\w+\\b', data)\n",
    "    word_freq = {}\n",
    "    \n",
    "    for word in words:\n",
    "        first_letter = word[0].lower()\n",
    "        if first_letter in word_freq:\n",
    "            word_freq[first_letter] += 1\n",
    "        else:\n",
    "            word_freq[first_letter] = 1\n",
    "            \n",
    "    return word_freq\n",
    "\n",
    "def find_most_frequent_letter(word_freq):\n",
    "    sorted_letters = sorted(word_freq.items(), key=lambda x: x[1], reverse=True)\n",
    "    return sorted_letters[0]\n",
    "\n",
    "def main():\n",
    "    file_path = 'words_freq.txt'\n",
    "    word_freq = read_word_freq_file(file_path)\n",
    "    most_frequent_letter, count = find_most_frequent_letter(word_freq)\n",
    "    \n",
    "    print(f'The most popular first letter is \"{most_frequent_letter}\" with {count} words.')\n",
    "\n",
    "if __name__ == '__main__':\n",
    "    main() "
   ]
  },
  {
   "cell_type": "code",
   "execution_count": 8,
   "id": "a6a68ac2",
   "metadata": {},
   "outputs": [
    {
     "name": "stdout",
     "output_type": "stream",
     "text": [
      "The most common first letter is п with 196 words.\n"
     ]
    }
   ],
   "source": [
    "import collections\n",
    "\n",
    "word_count = collections.Counter()\n",
    "\n",
    "with open('words_freq.txt', 'r', encoding='UTF-8') as f:\n",
    "    for line in f:\n",
    "        word = line.split()[1]\n",
    "        word_count[word[0]] += 1\n",
    "\n",
    "sorted_word_count = sorted(word_count.items(), key=lambda x: x[1], reverse=True)\n",
    "\n",
    "most_common_letter = sorted_word_count[0][0]\n",
    "count = sorted_word_count[0][1]\n",
    "\n",
    "print(f'The most common first letter is {most_common_letter} with {count} words.')"
   ]
  },
  {
   "cell_type": "markdown",
   "id": "b94a18e9",
   "metadata": {
    "id": "b94a18e9"
   },
   "source": [
    "---\n",
    "\n",
    "## Задание 4. Импортирование модулей\n",
    "\n",
    "###Что нужно сделать\n",
    "Напишите функцию `circ_sqrt`. Она должна принимать один параметр `r` типа `float` и возвращать квадратный корень из длины окружности радиуса `r`.\n",
    "\n",
    "### Подсказки\n",
    "- Используйте функции встроенного модуля math.\n",
    "- В работе функции учтите область определения квадратного корня."
   ]
  },
  {
   "cell_type": "code",
   "execution_count": 9,
   "id": "f9ddadb6",
   "metadata": {
    "id": "f9ddadb6"
   },
   "outputs": [
    {
     "name": "stdout",
     "output_type": "stream",
     "text": [
      "Квадратный корень из длины окружности: 5.604991216397929\n"
     ]
    }
   ],
   "source": [
    "import math\n",
    "\n",
    "def circ_sqrt(r):  \n",
    "    if r >= 0:\n",
    "        return math.sqrt(2 * math.pi * r)\n",
    "    else:\n",
    "        raise ValueError('Радиус не может быть отрицательным')\n",
    "\n",
    "r = 5\n",
    "print(f'Квадратный корень из длины окружности: {circ_sqrt(r)}')"
   ]
  },
  {
   "cell_type": "markdown",
   "id": "73df457b",
   "metadata": {
    "id": "73df457b"
   },
   "source": [
    "---\n",
    "\n",
    "## Задание 5. Установка внешних модулей через pip\n",
    "\n",
    "### Что нужно сделать\n",
    "\n",
    "Установите пакеты из PyPi с помощью пакетного менеджера pip и используйте их в коде. \n",
    "1. Установите пакет `cowsay`.\n",
    "2. Установите в систему пакет `wikipedia` — Python API для очень популярной онлайн-энциклопедии.\n",
    "3. Напишите функцию `random_article`, которая выводит на экран очень умную корову. Корова должна «рассказывать» краткое содержание случайной статьи из «Википедии» на английском языке.\n",
    "\n",
    "\n",
    "### Подсказки\n",
    "\n",
    "Вам понадобятся следующие функции пакета `wikipedia`:\n",
    "\n",
    "* [**wikipedia.random**](https://wikipedia.readthedocs.io/en/latest/code.html#wikipedia.random)\n",
    "* [**wikipedia.summary**](https://wikipedia.readthedocs.io/en/latest/code.html#wikipedia.summary)"
   ]
  },
  {
   "cell_type": "code",
   "execution_count": 10,
   "id": "25dbe86e",
   "metadata": {
    "scrolled": true
   },
   "outputs": [
    {
     "name": "stdout",
     "output_type": "stream",
     "text": [
      "Requirement already satisfied: cowsay in c:\\users\\user\\anaconda3\\lib\\site-packages (5.0)\n",
      "Requirement already satisfied: wikipedia in c:\\users\\user\\anaconda3\\lib\\site-packages (1.4.0)\n",
      "Requirement already satisfied: beautifulsoup4 in c:\\users\\user\\anaconda3\\lib\\site-packages (from wikipedia) (4.11.1)\n",
      "Requirement already satisfied: requests<3.0.0,>=2.0.0 in c:\\users\\user\\anaconda3\\lib\\site-packages (from wikipedia) (2.28.1)\n",
      "Requirement already satisfied: urllib3<1.27,>=1.21.1 in c:\\users\\user\\anaconda3\\lib\\site-packages (from requests<3.0.0,>=2.0.0->wikipedia) (1.26.14)\n",
      "Requirement already satisfied: certifi>=2017.4.17 in c:\\users\\user\\anaconda3\\lib\\site-packages (from requests<3.0.0,>=2.0.0->wikipedia) (2022.12.7)\n",
      "Requirement already satisfied: charset-normalizer<3,>=2 in c:\\users\\user\\anaconda3\\lib\\site-packages (from requests<3.0.0,>=2.0.0->wikipedia) (2.0.4)\n",
      "Requirement already satisfied: idna<4,>=2.5 in c:\\users\\user\\anaconda3\\lib\\site-packages (from requests<3.0.0,>=2.0.0->wikipedia) (3.4)\n",
      "Requirement already satisfied: soupsieve>1.2 in c:\\users\\user\\anaconda3\\lib\\site-packages (from beautifulsoup4->wikipedia) (2.3.2.post1)\n",
      "  _________________________________________________\n",
      " /                                                 \\\n",
      "| Body snatching is the illicit removal of corpses  |\n",
      "| from graves, morgues, and other burial sites. Bod |\n",
      "| y snatching is distinct from the act of grave rob |\n",
      "| bery as grave robbing does not explicitly involve |\n",
      "|  the removal of the corpse, but rather theft from |\n",
      "|  the burial site itself. The term 'body snatching |\n",
      "| ' most commonly refers to the removal and sale of |\n",
      "|  corpses primarily for the purpose of dissection  |\n",
      "| or anatomy lectures in medical schools. The term  |\n",
      "| was coined primarily in regard to cases in the Un |\n",
      "| ited Kingdom and United States throughout the 17t |\n",
      "| h, 18th, and 19th centuries.  However, there have |\n",
      "|  been cases of body snatching in many countries,  |\n",
      "| with the first recorded case dating back to 1319  |\n",
      "| in Bologna, Italy.                                |\n",
      "| Those who practiced the act of body snatching and |\n",
      "|  sale of corpses during this period were commonly |\n",
      "|  referred to as \"resurrectionists\" \"resurrection  |\n",
      "| men\". Resurrectionists in the United Kingdom who  |\n",
      "| often worked in teams and who primarily targeted  |\n",
      "| more recently dug graves, would be hired in order |\n",
      "|  to provide medical institutions and practitioner |\n",
      "| s with a supply of fresh cadavers for the purpose |\n",
      "|  of anatomical study. Despite a significant decli |\n",
      "| ne in body snatching as a practice, there do exis |\n",
      "| t contemporary instances of body snatching cases  |\n",
      "| occurring around the globe.                       |\n",
      " \\                                                 /\n",
      "  =================================================\n",
      "                                                 \\\n",
      "                                                  \\\n",
      "                                                    ^__^\n",
      "                                                    (oo)\\_______\n",
      "                                                    (__)\\       )\\/\\\n",
      "                                                        ||----w |\n",
      "                                                        ||     ||\n"
     ]
    }
   ],
   "source": [
    "!pip install cowsay\n",
    "!pip install wikipedia\n",
    "\n",
    "import cowsay\n",
    "import wikipedia\n",
    "\n",
    "def random_article():\n",
    "    summary = None\n",
    "    while summary is None:\n",
    "        try:\n",
    "            summary = wikipedia.summary(wikipedia.random())\n",
    "        except wikipedia.exceptions.DisambiguationError:\n",
    "            pass\n",
    "    cowsay.cow(summary)\n",
    "\n",
    "random_article()"
   ]
  },
  {
   "cell_type": "markdown",
   "id": "af263b7d",
   "metadata": {
    "id": "af263b7d"
   },
   "source": [
    "---\n",
    "\n",
    "## Задание 6. Бонусное\n",
    "\n",
    "### Что нужно сделать\n",
    "\n",
    "Выясните, как слова в рассказе «Анна на шее» распределяются по длине. \n",
    "\n",
    "1. Посчитайте, сколько слов длины 1, 2 и так далее в файле anna_words.txt.\n",
    "\n",
    "2. Выведите на экран информацию в формате `длина количество_слов`, отсортируйте её по возрастанию длины.\n",
    "\n",
    "3. Перенесите вывод программы в Excel или Google Таблицы и постройте столбчатую диаграмму. \n",
    "\n",
    "4. Сравните ваш график с [распределением русских слов по длине](http://nskhuman.ru/unislov/statist.php?nstat=21). В гистограмме по ссылке больше данных, поэтому она лучше показывает соотношение длины слов и их количества в русском языке.\n",
    "\n",
    "### Советы и рекомендации\n",
    "Вероятнее всего, вы снова будете использовать словарь. Ключами в нём будет длина слов, а значениями — количество слов этой длины. Обратите внимание, что словарь нужно сортировать по ключам, а не по значениям, как вы делали ранее."
   ]
  },
  {
   "cell_type": "code",
   "execution_count": 11,
   "id": "31cd934a",
   "metadata": {
    "id": "31cd934a"
   },
   "outputs": [
    {
     "name": "stdout",
     "output_type": "stream",
     "text": [
      "1 6\n",
      "2 13\n",
      "3 127\n",
      "4 299\n",
      "5 288\n",
      "6 334\n",
      "7 399\n",
      "8 314\n",
      "9 182\n",
      "10 124\n",
      "11 111\n",
      "12 45\n",
      "13 21\n",
      "14 11\n",
      "15 7\n",
      "16 1\n",
      "17 4\n",
      "18 2\n"
     ]
    }
   ],
   "source": [
    "with open('anna_words.txt', 'r', encoding='UTF-8') as file:\n",
    "    words = file.read().split()\n",
    "\n",
    "length_freq = {}\n",
    "\n",
    "for word in words:\n",
    "    length = len(word)\n",
    "    if length in length_freq:\n",
    "        length_freq[length] += 1\n",
    "    else:\n",
    "        length_freq[length] = 1\n",
    "\n",
    "sorted_lengths = sorted(length_freq.items(), key=lambda x: x[0])\n",
    "\n",
    "for length, count in sorted_lengths:\n",
    "    print(f'{length} {count}')"
   ]
  },
  {
   "cell_type": "code",
   "execution_count": 12,
   "id": "f67fe41d",
   "metadata": {},
   "outputs": [
    {
     "data": {
      "text/plain": [
       "<function TextIOWrapper.close()>"
      ]
     },
     "execution_count": 12,
     "metadata": {},
     "output_type": "execute_result"
    }
   ],
   "source": [
    "file.close"
   ]
  },
  {
   "cell_type": "code",
   "execution_count": 13,
   "id": "1d45ea29",
   "metadata": {},
   "outputs": [
    {
     "data": {
      "text/plain": [
       "True"
      ]
     },
     "execution_count": 13,
     "metadata": {},
     "output_type": "execute_result"
    }
   ],
   "source": [
    "file. closed"
   ]
  },
  {
   "cell_type": "code",
   "execution_count": null,
   "id": "4efaf007",
   "metadata": {},
   "outputs": [],
   "source": []
  },
  {
   "cell_type": "code",
   "execution_count": null,
   "id": "ac4980cb",
   "metadata": {},
   "outputs": [],
   "source": []
  }
 ],
 "metadata": {
  "colab": {
   "collapsed_sections": [],
   "provenance": []
  },
  "kernelspec": {
   "display_name": "Python 3 (ipykernel)",
   "language": "python",
   "name": "python3"
  },
  "language_info": {
   "codemirror_mode": {
    "name": "ipython",
    "version": 3
   },
   "file_extension": ".py",
   "mimetype": "text/x-python",
   "name": "python",
   "nbconvert_exporter": "python",
   "pygments_lexer": "ipython3",
   "version": "3.12.4"
  }
 },
 "nbformat": 4,
 "nbformat_minor": 5
}
